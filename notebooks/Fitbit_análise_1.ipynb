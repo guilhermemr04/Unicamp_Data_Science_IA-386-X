{
  "nbformat": 4,
  "nbformat_minor": 0,
  "metadata": {
    "colab": {
      "name": "Fitbit.ipynb",
      "provenance": [],
      "collapsed_sections": []
    },
    "kernelspec": {
      "name": "python3",
      "display_name": "Python 3"
    }
  },
  "cells": [
    {
      "cell_type": "markdown",
      "metadata": {
        "id": "F0MoU5QsRsot",
        "colab_type": "text"
      },
      "source": [
        "# Ciência e Visualização de Dados em Saúde 2020.1\n",
        "### FEEC - Unicamp\n",
        "\n",
        "\n"
      ]
    },
    {
      "cell_type": "code",
      "metadata": {
        "id": "-0CFE3OWRtLy",
        "colab_type": "code",
        "colab": {}
      },
      "source": [
        "import pandas as pd\n",
        "import numpy as np"
      ],
      "execution_count": 2,
      "outputs": []
    },
    {
      "cell_type": "code",
      "metadata": {
        "id": "n11i1MPx8h_U",
        "colab_type": "code",
        "colab": {
          "base_uri": "https://localhost:8080/",
          "height": 51
        },
        "outputId": "09c1dcb4-2164-48a1-c6b8-04dd7f4bd655"
      },
      "source": [
        "df = pd.read_csv('https://raw.githubusercontent.com/leticia-alves-ferreira/Projeto-Atividade-Fisica-IA-386-X/master/Data/DAILY_INFORMATION.csv?token=ALTMFMDQ6VIGKVRRJKHL4VS665DS4')\n",
        "#df = pd.read_csv('DAILY_INFORMATION.csv')\n",
        "df.shape"
      ],
      "execution_count": 6,
      "outputs": [
        {
          "output_type": "stream",
          "text": [
            "deu certo\n"
          ],
          "name": "stdout"
        },
        {
          "output_type": "execute_result",
          "data": {
            "text/plain": [
              "(940, 15)"
            ]
          },
          "metadata": {
            "tags": []
          },
          "execution_count": 6
        }
      ]
    },
    {
      "cell_type": "markdown",
      "metadata": {
        "id": "iKt4nj7RScdF",
        "colab_type": "text"
      },
      "source": [
        "### Análise Exploratória dos dados"
      ]
    },
    {
      "cell_type": "code",
      "metadata": {
        "id": "edIngK5l8wGv",
        "colab_type": "code",
        "colab": {
          "base_uri": "https://localhost:8080/",
          "height": 119
        },
        "outputId": "2efe2064-1f5b-4f16-818c-e3b8c55deb34"
      },
      "source": [
        "df.columns"
      ],
      "execution_count": null,
      "outputs": [
        {
          "output_type": "execute_result",
          "data": {
            "text/plain": [
              "Index(['ID', 'ACTIVITY_DATE', 'TOTAL_STEPS', 'TOTAL_DISTANCE',\n",
              "       'MEAN_DAILY_MET', 'MAX_DAILY_MET', 'CALORIES', 'VERY_ACTIVE_DISTANCE',\n",
              "       'MODERATE_ACTIVE_DISTANCE', 'LIGHT_ACTIVE_DIST',\n",
              "       'SEDENTARY_ACTIVE_DIST', 'VERY_ACTIVE_MINUTES', 'FAIRLY_ACTIVE_MINUTES',\n",
              "       'LIGHT_ACTIVE_MINUTES', 'SEDENTARY_ACTIVE_MINUTES'],\n",
              "      dtype='object')"
            ]
          },
          "metadata": {
            "tags": []
          },
          "execution_count": 3
        }
      ]
    },
    {
      "cell_type": "code",
      "metadata": {
        "id": "lYf326X85mzG",
        "colab_type": "code",
        "colab": {
          "base_uri": "https://localhost:8080/",
          "height": 391
        },
        "outputId": "84e0e2ad-c971-4ddd-b231-ed1583b911ac"
      },
      "source": [
        "df.info()"
      ],
      "execution_count": null,
      "outputs": [
        {
          "output_type": "stream",
          "text": [
            "<class 'pandas.core.frame.DataFrame'>\n",
            "RangeIndex: 940 entries, 0 to 939\n",
            "Data columns (total 15 columns):\n",
            " #   Column                    Non-Null Count  Dtype  \n",
            "---  ------                    --------------  -----  \n",
            " 0   ID                        940 non-null    int64  \n",
            " 1   ACTIVITY_DATE             940 non-null    object \n",
            " 2   TOTAL_STEPS               940 non-null    int64  \n",
            " 3   TOTAL_DISTANCE            940 non-null    float64\n",
            " 4   MEAN_DAILY_MET            934 non-null    float64\n",
            " 5   MAX_DAILY_MET             934 non-null    float64\n",
            " 6   CALORIES                  940 non-null    int64  \n",
            " 7   VERY_ACTIVE_DISTANCE      940 non-null    float64\n",
            " 8   MODERATE_ACTIVE_DISTANCE  940 non-null    float64\n",
            " 9   LIGHT_ACTIVE_DIST         940 non-null    float64\n",
            " 10  SEDENTARY_ACTIVE_DIST     940 non-null    float64\n",
            " 11  VERY_ACTIVE_MINUTES       940 non-null    int64  \n",
            " 12  FAIRLY_ACTIVE_MINUTES     940 non-null    int64  \n",
            " 13  LIGHT_ACTIVE_MINUTES      940 non-null    int64  \n",
            " 14  SEDENTARY_ACTIVE_MINUTES  940 non-null    int64  \n",
            "dtypes: float64(7), int64(7), object(1)\n",
            "memory usage: 110.3+ KB\n"
          ],
          "name": "stdout"
        }
      ]
    },
    {
      "cell_type": "code",
      "metadata": {
        "id": "dLeVgYZQ8yrk",
        "colab_type": "code",
        "colab": {
          "base_uri": "https://localhost:8080/",
          "height": 224
        },
        "outputId": "033178a2-8200-46dd-9cf9-7788bbf75f0d"
      },
      "source": [
        "df.head()"
      ],
      "execution_count": null,
      "outputs": [
        {
          "output_type": "execute_result",
          "data": {
            "text/html": [
              "<div>\n",
              "<style scoped>\n",
              "    .dataframe tbody tr th:only-of-type {\n",
              "        vertical-align: middle;\n",
              "    }\n",
              "\n",
              "    .dataframe tbody tr th {\n",
              "        vertical-align: top;\n",
              "    }\n",
              "\n",
              "    .dataframe thead th {\n",
              "        text-align: right;\n",
              "    }\n",
              "</style>\n",
              "<table border=\"1\" class=\"dataframe\">\n",
              "  <thead>\n",
              "    <tr style=\"text-align: right;\">\n",
              "      <th></th>\n",
              "      <th>ID</th>\n",
              "      <th>ACTIVITY_DATE</th>\n",
              "      <th>TOTAL_STEPS</th>\n",
              "      <th>TOTAL_DISTANCE</th>\n",
              "      <th>MEAN_DAILY_MET</th>\n",
              "      <th>MAX_DAILY_MET</th>\n",
              "      <th>CALORIES</th>\n",
              "      <th>VERY_ACTIVE_DISTANCE</th>\n",
              "      <th>MODERATE_ACTIVE_DISTANCE</th>\n",
              "      <th>LIGHT_ACTIVE_DIST</th>\n",
              "      <th>SEDENTARY_ACTIVE_DIST</th>\n",
              "      <th>VERY_ACTIVE_MINUTES</th>\n",
              "      <th>FAIRLY_ACTIVE_MINUTES</th>\n",
              "      <th>LIGHT_ACTIVE_MINUTES</th>\n",
              "      <th>SEDENTARY_ACTIVE_MINUTES</th>\n",
              "    </tr>\n",
              "  </thead>\n",
              "  <tbody>\n",
              "    <tr>\n",
              "      <th>0</th>\n",
              "      <td>1503960366</td>\n",
              "      <td>04/12/2016</td>\n",
              "      <td>13162</td>\n",
              "      <td>8.50</td>\n",
              "      <td>17.53</td>\n",
              "      <td>99.0</td>\n",
              "      <td>1985</td>\n",
              "      <td>1.88</td>\n",
              "      <td>0.55</td>\n",
              "      <td>6.06</td>\n",
              "      <td>0.0</td>\n",
              "      <td>25</td>\n",
              "      <td>13</td>\n",
              "      <td>328</td>\n",
              "      <td>728</td>\n",
              "    </tr>\n",
              "    <tr>\n",
              "      <th>1</th>\n",
              "      <td>1503960366</td>\n",
              "      <td>04/13/2016</td>\n",
              "      <td>10735</td>\n",
              "      <td>6.97</td>\n",
              "      <td>15.87</td>\n",
              "      <td>111.0</td>\n",
              "      <td>1797</td>\n",
              "      <td>1.57</td>\n",
              "      <td>0.69</td>\n",
              "      <td>4.71</td>\n",
              "      <td>0.0</td>\n",
              "      <td>21</td>\n",
              "      <td>19</td>\n",
              "      <td>217</td>\n",
              "      <td>776</td>\n",
              "    </tr>\n",
              "    <tr>\n",
              "      <th>2</th>\n",
              "      <td>1503960366</td>\n",
              "      <td>04/14/2016</td>\n",
              "      <td>10460</td>\n",
              "      <td>6.74</td>\n",
              "      <td>15.69</td>\n",
              "      <td>97.0</td>\n",
              "      <td>1776</td>\n",
              "      <td>2.44</td>\n",
              "      <td>0.40</td>\n",
              "      <td>3.91</td>\n",
              "      <td>0.0</td>\n",
              "      <td>30</td>\n",
              "      <td>11</td>\n",
              "      <td>181</td>\n",
              "      <td>1218</td>\n",
              "    </tr>\n",
              "    <tr>\n",
              "      <th>3</th>\n",
              "      <td>1503960366</td>\n",
              "      <td>04/15/2016</td>\n",
              "      <td>9762</td>\n",
              "      <td>6.28</td>\n",
              "      <td>15.41</td>\n",
              "      <td>97.0</td>\n",
              "      <td>1745</td>\n",
              "      <td>2.14</td>\n",
              "      <td>1.26</td>\n",
              "      <td>2.83</td>\n",
              "      <td>0.0</td>\n",
              "      <td>29</td>\n",
              "      <td>34</td>\n",
              "      <td>209</td>\n",
              "      <td>726</td>\n",
              "    </tr>\n",
              "    <tr>\n",
              "      <th>4</th>\n",
              "      <td>1503960366</td>\n",
              "      <td>04/16/2016</td>\n",
              "      <td>12669</td>\n",
              "      <td>8.16</td>\n",
              "      <td>16.45</td>\n",
              "      <td>103.0</td>\n",
              "      <td>1863</td>\n",
              "      <td>2.71</td>\n",
              "      <td>0.41</td>\n",
              "      <td>5.04</td>\n",
              "      <td>0.0</td>\n",
              "      <td>36</td>\n",
              "      <td>10</td>\n",
              "      <td>221</td>\n",
              "      <td>773</td>\n",
              "    </tr>\n",
              "  </tbody>\n",
              "</table>\n",
              "</div>"
            ],
            "text/plain": [
              "           ID ACTIVITY_DATE  ...  LIGHT_ACTIVE_MINUTES  SEDENTARY_ACTIVE_MINUTES\n",
              "0  1503960366    04/12/2016  ...                   328                       728\n",
              "1  1503960366    04/13/2016  ...                   217                       776\n",
              "2  1503960366    04/14/2016  ...                   181                      1218\n",
              "3  1503960366    04/15/2016  ...                   209                       726\n",
              "4  1503960366    04/16/2016  ...                   221                       773\n",
              "\n",
              "[5 rows x 15 columns]"
            ]
          },
          "metadata": {
            "tags": []
          },
          "execution_count": 5
        }
      ]
    },
    {
      "cell_type": "code",
      "metadata": {
        "id": "-juG1rYG87vR",
        "colab_type": "code",
        "colab": {
          "base_uri": "https://localhost:8080/",
          "height": 34
        },
        "outputId": "5acbbf84-1860-4630-8ce5-5f5f04d418af"
      },
      "source": [
        "df_unique = df['ID'].unique()\n",
        "print('Temos', len(df_unique), 'indivíduos no dataset')"
      ],
      "execution_count": null,
      "outputs": [
        {
          "output_type": "stream",
          "text": [
            "Temos 33 indivíduos no dataset\n"
          ],
          "name": "stdout"
        }
      ]
    },
    {
      "cell_type": "code",
      "metadata": {
        "id": "S-QppxTuTB2b",
        "colab_type": "code",
        "colab": {
          "base_uri": "https://localhost:8080/",
          "height": 238
        },
        "outputId": "c61c3298-39ae-466c-f180-de9c815ca8a4"
      },
      "source": [
        "pessoas = df.groupby(['ID']).size().to_frame(name='Count').reset_index()\n",
        "print('Temos em média', pessoas['Count'].mean(), 'dias de dados para cada indivíduo')\n",
        "print('Max:', pessoas['Count'].max(), 'dias, Min:', pessoas['Count'].min(),'dias')\n",
        "pessoas.head()"
      ],
      "execution_count": null,
      "outputs": [
        {
          "output_type": "stream",
          "text": [
            "Temos em média 28.484848484848484 dias de dados para cada indivíduo\n",
            "Max: 31 dias, Min: 4 dias\n"
          ],
          "name": "stdout"
        },
        {
          "output_type": "execute_result",
          "data": {
            "text/html": [
              "<div>\n",
              "<style scoped>\n",
              "    .dataframe tbody tr th:only-of-type {\n",
              "        vertical-align: middle;\n",
              "    }\n",
              "\n",
              "    .dataframe tbody tr th {\n",
              "        vertical-align: top;\n",
              "    }\n",
              "\n",
              "    .dataframe thead th {\n",
              "        text-align: right;\n",
              "    }\n",
              "</style>\n",
              "<table border=\"1\" class=\"dataframe\">\n",
              "  <thead>\n",
              "    <tr style=\"text-align: right;\">\n",
              "      <th></th>\n",
              "      <th>ID</th>\n",
              "      <th>Count</th>\n",
              "    </tr>\n",
              "  </thead>\n",
              "  <tbody>\n",
              "    <tr>\n",
              "      <th>0</th>\n",
              "      <td>1503960366</td>\n",
              "      <td>31</td>\n",
              "    </tr>\n",
              "    <tr>\n",
              "      <th>1</th>\n",
              "      <td>1624580081</td>\n",
              "      <td>31</td>\n",
              "    </tr>\n",
              "    <tr>\n",
              "      <th>2</th>\n",
              "      <td>1644430081</td>\n",
              "      <td>30</td>\n",
              "    </tr>\n",
              "    <tr>\n",
              "      <th>3</th>\n",
              "      <td>1844505072</td>\n",
              "      <td>31</td>\n",
              "    </tr>\n",
              "    <tr>\n",
              "      <th>4</th>\n",
              "      <td>1927972279</td>\n",
              "      <td>31</td>\n",
              "    </tr>\n",
              "  </tbody>\n",
              "</table>\n",
              "</div>"
            ],
            "text/plain": [
              "           ID  Count\n",
              "0  1503960366     31\n",
              "1  1624580081     31\n",
              "2  1644430081     30\n",
              "3  1844505072     31\n",
              "4  1927972279     31"
            ]
          },
          "metadata": {
            "tags": []
          },
          "execution_count": 7
        }
      ]
    },
    {
      "cell_type": "markdown",
      "metadata": {
        "id": "pQw-e4dc8TGp",
        "colab_type": "text"
      },
      "source": [
        "### Estatísticas descritivas "
      ]
    },
    {
      "cell_type": "code",
      "metadata": {
        "id": "jgasbiSu7KYc",
        "colab_type": "code",
        "colab": {
          "base_uri": "https://localhost:8080/",
          "height": 317
        },
        "outputId": "28be3e50-e113-4eef-b122-c8c06033974e"
      },
      "source": [
        "df.describe()"
      ],
      "execution_count": null,
      "outputs": [
        {
          "output_type": "execute_result",
          "data": {
            "text/html": [
              "<div>\n",
              "<style scoped>\n",
              "    .dataframe tbody tr th:only-of-type {\n",
              "        vertical-align: middle;\n",
              "    }\n",
              "\n",
              "    .dataframe tbody tr th {\n",
              "        vertical-align: top;\n",
              "    }\n",
              "\n",
              "    .dataframe thead th {\n",
              "        text-align: right;\n",
              "    }\n",
              "</style>\n",
              "<table border=\"1\" class=\"dataframe\">\n",
              "  <thead>\n",
              "    <tr style=\"text-align: right;\">\n",
              "      <th></th>\n",
              "      <th>ID</th>\n",
              "      <th>TOTAL_STEPS</th>\n",
              "      <th>TOTAL_DISTANCE</th>\n",
              "      <th>MEAN_DAILY_MET</th>\n",
              "      <th>MAX_DAILY_MET</th>\n",
              "      <th>CALORIES</th>\n",
              "      <th>VERY_ACTIVE_DISTANCE</th>\n",
              "      <th>MODERATE_ACTIVE_DISTANCE</th>\n",
              "      <th>LIGHT_ACTIVE_DIST</th>\n",
              "      <th>SEDENTARY_ACTIVE_DIST</th>\n",
              "      <th>VERY_ACTIVE_MINUTES</th>\n",
              "      <th>FAIRLY_ACTIVE_MINUTES</th>\n",
              "      <th>LIGHT_ACTIVE_MINUTES</th>\n",
              "      <th>SEDENTARY_ACTIVE_MINUTES</th>\n",
              "    </tr>\n",
              "  </thead>\n",
              "  <tbody>\n",
              "    <tr>\n",
              "      <th>count</th>\n",
              "      <td>9.400000e+02</td>\n",
              "      <td>940.000000</td>\n",
              "      <td>940.000000</td>\n",
              "      <td>934.000000</td>\n",
              "      <td>934.000000</td>\n",
              "      <td>940.000000</td>\n",
              "      <td>940.000000</td>\n",
              "      <td>940.000000</td>\n",
              "      <td>940.000000</td>\n",
              "      <td>940.000000</td>\n",
              "      <td>940.000000</td>\n",
              "      <td>940.000000</td>\n",
              "      <td>940.000000</td>\n",
              "      <td>940.000000</td>\n",
              "    </tr>\n",
              "    <tr>\n",
              "      <th>mean</th>\n",
              "      <td>4.855407e+09</td>\n",
              "      <td>7637.910638</td>\n",
              "      <td>5.489702</td>\n",
              "      <td>14.664090</td>\n",
              "      <td>73.595289</td>\n",
              "      <td>2303.609574</td>\n",
              "      <td>1.502681</td>\n",
              "      <td>0.567543</td>\n",
              "      <td>3.340819</td>\n",
              "      <td>0.001606</td>\n",
              "      <td>21.164894</td>\n",
              "      <td>13.564894</td>\n",
              "      <td>192.812766</td>\n",
              "      <td>991.210638</td>\n",
              "    </tr>\n",
              "    <tr>\n",
              "      <th>std</th>\n",
              "      <td>2.424805e+09</td>\n",
              "      <td>5087.150742</td>\n",
              "      <td>3.924606</td>\n",
              "      <td>2.903374</td>\n",
              "      <td>29.970493</td>\n",
              "      <td>718.166862</td>\n",
              "      <td>2.658941</td>\n",
              "      <td>0.883580</td>\n",
              "      <td>2.040655</td>\n",
              "      <td>0.007346</td>\n",
              "      <td>32.844803</td>\n",
              "      <td>19.987404</td>\n",
              "      <td>109.174700</td>\n",
              "      <td>301.267437</td>\n",
              "    </tr>\n",
              "    <tr>\n",
              "      <th>min</th>\n",
              "      <td>1.503960e+09</td>\n",
              "      <td>0.000000</td>\n",
              "      <td>0.000000</td>\n",
              "      <td>10.000000</td>\n",
              "      <td>10.000000</td>\n",
              "      <td>0.000000</td>\n",
              "      <td>0.000000</td>\n",
              "      <td>0.000000</td>\n",
              "      <td>0.000000</td>\n",
              "      <td>0.000000</td>\n",
              "      <td>0.000000</td>\n",
              "      <td>0.000000</td>\n",
              "      <td>0.000000</td>\n",
              "      <td>0.000000</td>\n",
              "    </tr>\n",
              "    <tr>\n",
              "      <th>25%</th>\n",
              "      <td>2.320127e+09</td>\n",
              "      <td>3789.750000</td>\n",
              "      <td>2.620000</td>\n",
              "      <td>12.710000</td>\n",
              "      <td>58.000000</td>\n",
              "      <td>1828.500000</td>\n",
              "      <td>0.000000</td>\n",
              "      <td>0.000000</td>\n",
              "      <td>1.945000</td>\n",
              "      <td>0.000000</td>\n",
              "      <td>0.000000</td>\n",
              "      <td>0.000000</td>\n",
              "      <td>127.000000</td>\n",
              "      <td>729.750000</td>\n",
              "    </tr>\n",
              "    <tr>\n",
              "      <th>50%</th>\n",
              "      <td>4.445115e+09</td>\n",
              "      <td>7405.500000</td>\n",
              "      <td>5.245000</td>\n",
              "      <td>14.695000</td>\n",
              "      <td>74.000000</td>\n",
              "      <td>2134.000000</td>\n",
              "      <td>0.210000</td>\n",
              "      <td>0.240000</td>\n",
              "      <td>3.365000</td>\n",
              "      <td>0.000000</td>\n",
              "      <td>4.000000</td>\n",
              "      <td>6.000000</td>\n",
              "      <td>199.000000</td>\n",
              "      <td>1057.500000</td>\n",
              "    </tr>\n",
              "    <tr>\n",
              "      <th>75%</th>\n",
              "      <td>6.962181e+09</td>\n",
              "      <td>10727.000000</td>\n",
              "      <td>7.712500</td>\n",
              "      <td>16.407500</td>\n",
              "      <td>93.000000</td>\n",
              "      <td>2793.250000</td>\n",
              "      <td>2.052500</td>\n",
              "      <td>0.800000</td>\n",
              "      <td>4.782500</td>\n",
              "      <td>0.000000</td>\n",
              "      <td>32.000000</td>\n",
              "      <td>19.000000</td>\n",
              "      <td>264.000000</td>\n",
              "      <td>1229.500000</td>\n",
              "    </tr>\n",
              "    <tr>\n",
              "      <th>max</th>\n",
              "      <td>8.877689e+09</td>\n",
              "      <td>36019.000000</td>\n",
              "      <td>28.030001</td>\n",
              "      <td>25.780000</td>\n",
              "      <td>157.000000</td>\n",
              "      <td>4900.000000</td>\n",
              "      <td>21.920000</td>\n",
              "      <td>6.480000</td>\n",
              "      <td>10.710000</td>\n",
              "      <td>0.110000</td>\n",
              "      <td>210.000000</td>\n",
              "      <td>143.000000</td>\n",
              "      <td>518.000000</td>\n",
              "      <td>1440.000000</td>\n",
              "    </tr>\n",
              "  </tbody>\n",
              "</table>\n",
              "</div>"
            ],
            "text/plain": [
              "                 ID  ...  SEDENTARY_ACTIVE_MINUTES\n",
              "count  9.400000e+02  ...                940.000000\n",
              "mean   4.855407e+09  ...                991.210638\n",
              "std    2.424805e+09  ...                301.267437\n",
              "min    1.503960e+09  ...                  0.000000\n",
              "25%    2.320127e+09  ...                729.750000\n",
              "50%    4.445115e+09  ...               1057.500000\n",
              "75%    6.962181e+09  ...               1229.500000\n",
              "max    8.877689e+09  ...               1440.000000\n",
              "\n",
              "[8 rows x 14 columns]"
            ]
          },
          "metadata": {
            "tags": []
          },
          "execution_count": 8
        }
      ]
    },
    {
      "cell_type": "markdown",
      "metadata": {
        "id": "Ehfk6TK5qotI",
        "colab_type": "text"
      },
      "source": [
        "### Missing data\n",
        "\n",
        "Analisando dados faltantes e inconsistentes"
      ]
    },
    {
      "cell_type": "code",
      "metadata": {
        "id": "EU05EQAg8DXS",
        "colab_type": "code",
        "colab": {
          "base_uri": "https://localhost:8080/",
          "height": 289
        },
        "outputId": "f0e9e3fb-b026-4a9e-a120-69dcc7927e22"
      },
      "source": [
        "print(df.isnull().sum())"
      ],
      "execution_count": null,
      "outputs": [
        {
          "output_type": "stream",
          "text": [
            "ID                          0\n",
            "ACTIVITY_DATE               0\n",
            "TOTAL_STEPS                 0\n",
            "TOTAL_DISTANCE              0\n",
            "MEAN_DAILY_MET              6\n",
            "MAX_DAILY_MET               6\n",
            "CALORIES                    0\n",
            "VERY_ACTIVE_DISTANCE        0\n",
            "MODERATE_ACTIVE_DISTANCE    0\n",
            "LIGHT_ACTIVE_DIST           0\n",
            "SEDENTARY_ACTIVE_DIST       0\n",
            "VERY_ACTIVE_MINUTES         0\n",
            "FAIRLY_ACTIVE_MINUTES       0\n",
            "LIGHT_ACTIVE_MINUTES        0\n",
            "SEDENTARY_ACTIVE_MINUTES    0\n",
            "dtype: int64\n"
          ],
          "name": "stdout"
        }
      ]
    },
    {
      "cell_type": "code",
      "metadata": {
        "id": "Si9uJIyo8mZf",
        "colab_type": "code",
        "colab": {
          "base_uri": "https://localhost:8080/",
          "height": 306
        },
        "outputId": "7391603b-69c7-4120-943e-394b18c6f0af"
      },
      "source": [
        "condition = df['MEAN_DAILY_MET'].isnull() == True \n",
        "condition2 = df['MAX_DAILY_MET'].isnull() == True\n",
        "print(df[condition], df[condition2])"
      ],
      "execution_count": null,
      "outputs": [
        {
          "output_type": "stream",
          "text": [
            "             ID ACTIVITY_DATE  ...  LIGHT_ACTIVE_MINUTES  SEDENTARY_ACTIVE_MINUTES\n",
            "30   1503960366    05/12/2016  ...                     0                      1440\n",
            "345  3977333714    05/11/2016  ...                     9                        13\n",
            "653  6290855005    05/10/2016  ...                     0                      1440\n",
            "817  8253242879    04/30/2016  ...                     0                      1440\n",
            "879  8583815059    05/12/2016  ...                     0                      1440\n",
            "908  8792009665    05/10/2016  ...                     0                        48\n",
            "\n",
            "[6 rows x 15 columns]              ID ACTIVITY_DATE  ...  LIGHT_ACTIVE_MINUTES  SEDENTARY_ACTIVE_MINUTES\n",
            "30   1503960366    05/12/2016  ...                     0                      1440\n",
            "345  3977333714    05/11/2016  ...                     9                        13\n",
            "653  6290855005    05/10/2016  ...                     0                      1440\n",
            "817  8253242879    04/30/2016  ...                     0                      1440\n",
            "879  8583815059    05/12/2016  ...                     0                      1440\n",
            "908  8792009665    05/10/2016  ...                     0                        48\n",
            "\n",
            "[6 rows x 15 columns]\n"
          ],
          "name": "stdout"
        }
      ]
    },
    {
      "cell_type": "markdown",
      "metadata": {
        "id": "wieL7L86VquA",
        "colab_type": "text"
      },
      "source": [
        "Como os dados faltantes são, em sua grande maioria, de pessoas diferentes e estão espaçados nas duas colunas, completarei com os valores do dia anterior."
      ]
    },
    {
      "cell_type": "code",
      "metadata": {
        "id": "m5ONN8iCQdnS",
        "colab_type": "code",
        "colab": {
          "base_uri": "https://localhost:8080/",
          "height": 289
        },
        "outputId": "a6302998-ac3e-4956-861c-5de178a07a63"
      },
      "source": [
        "df = df.fillna(method='ffill')\n",
        "df.isnull().sum()"
      ],
      "execution_count": null,
      "outputs": [
        {
          "output_type": "execute_result",
          "data": {
            "text/plain": [
              "ID                          0\n",
              "ACTIVITY_DATE               0\n",
              "TOTAL_STEPS                 0\n",
              "TOTAL_DISTANCE              0\n",
              "MEAN_DAILY_MET              0\n",
              "MAX_DAILY_MET               0\n",
              "CALORIES                    0\n",
              "VERY_ACTIVE_DISTANCE        0\n",
              "MODERATE_ACTIVE_DISTANCE    0\n",
              "LIGHT_ACTIVE_DIST           0\n",
              "SEDENTARY_ACTIVE_DIST       0\n",
              "VERY_ACTIVE_MINUTES         0\n",
              "FAIRLY_ACTIVE_MINUTES       0\n",
              "LIGHT_ACTIVE_MINUTES        0\n",
              "SEDENTARY_ACTIVE_MINUTES    0\n",
              "dtype: int64"
            ]
          },
          "metadata": {
            "tags": []
          },
          "execution_count": 11
        }
      ]
    },
    {
      "cell_type": "markdown",
      "metadata": {
        "id": "kBzJf9Wo9Ntc",
        "colab_type": "text"
      },
      "source": [
        "Analisando colunas que possuem células iguais a zero"
      ]
    },
    {
      "cell_type": "code",
      "metadata": {
        "id": "pks4xIvl662x",
        "colab_type": "code",
        "colab": {
          "base_uri": "https://localhost:8080/",
          "height": 102
        },
        "outputId": "1de1ec72-86b9-4e5e-bd54-64767f61057f"
      },
      "source": [
        "df_0 = df.columns[(df == 0).any()]\n",
        "df_0"
      ],
      "execution_count": null,
      "outputs": [
        {
          "output_type": "execute_result",
          "data": {
            "text/plain": [
              "Index(['TOTAL_STEPS', 'TOTAL_DISTANCE', 'CALORIES', 'VERY_ACTIVE_DISTANCE',\n",
              "       'MODERATE_ACTIVE_DISTANCE', 'LIGHT_ACTIVE_DIST',\n",
              "       'SEDENTARY_ACTIVE_DIST', 'VERY_ACTIVE_MINUTES', 'FAIRLY_ACTIVE_MINUTES',\n",
              "       'LIGHT_ACTIVE_MINUTES', 'SEDENTARY_ACTIVE_MINUTES'],\n",
              "      dtype='object')"
            ]
          },
          "metadata": {
            "tags": []
          },
          "execution_count": 12
        }
      ]
    },
    {
      "cell_type": "code",
      "metadata": {
        "id": "3byE0jVI9Uo2",
        "colab_type": "code",
        "colab": {
          "base_uri": "https://localhost:8080/",
          "height": 221
        },
        "outputId": "f9c1e758-bc6d-432d-ec5a-16c49131e9f7"
      },
      "source": [
        "dict_ = {}\n",
        "for col in df_0:\n",
        "  condition_0 = df[col] == 0\n",
        "  df_0 = df[condition_0]\n",
        "  dict_[col] = len(df_0.index)\n",
        "\n",
        "print('Coluna : # de células iguais a zero')\n",
        "dict_  "
      ],
      "execution_count": null,
      "outputs": [
        {
          "output_type": "stream",
          "text": [
            "Coluna : # de células iguais a zero\n"
          ],
          "name": "stdout"
        },
        {
          "output_type": "execute_result",
          "data": {
            "text/plain": [
              "{'CALORIES': 4,\n",
              " 'FAIRLY_ACTIVE_MINUTES': 384,\n",
              " 'LIGHT_ACTIVE_DIST': 85,\n",
              " 'LIGHT_ACTIVE_MINUTES': 84,\n",
              " 'MODERATE_ACTIVE_DISTANCE': 386,\n",
              " 'SEDENTARY_ACTIVE_DIST': 858,\n",
              " 'SEDENTARY_ACTIVE_MINUTES': 1,\n",
              " 'TOTAL_DISTANCE': 78,\n",
              " 'TOTAL_STEPS': 77,\n",
              " 'VERY_ACTIVE_DISTANCE': 413,\n",
              " 'VERY_ACTIVE_MINUTES': 409}"
            ]
          },
          "metadata": {
            "tags": []
          },
          "execution_count": 13
        }
      ]
    },
    {
      "cell_type": "markdown",
      "metadata": {
        "id": "b9Hy2gt8LJf3",
        "colab_type": "text"
      },
      "source": [
        "Devido ao grande número de células com valor igual a zero, para não perder muitas amostras eu substitui estes valores pelo valor da célula anterior."
      ]
    },
    {
      "cell_type": "code",
      "metadata": {
        "id": "6y3U6A-9EnVA",
        "colab_type": "code",
        "colab": {
          "base_uri": "https://localhost:8080/",
          "height": 34
        },
        "outputId": "4179f5b6-5d5e-4953-94c7-a250dd91664e"
      },
      "source": [
        "df = df.replace(to_replace=0, method='ffill')\n",
        "df_0 = df.columns[(df == 0).any()]\n",
        "df_0\n"
      ],
      "execution_count": null,
      "outputs": [
        {
          "output_type": "execute_result",
          "data": {
            "text/plain": [
              "Index(['SEDENTARY_ACTIVE_DIST'], dtype='object')"
            ]
          },
          "metadata": {
            "tags": []
          },
          "execution_count": 14
        }
      ]
    },
    {
      "cell_type": "markdown",
      "metadata": {
        "id": "cOMW6x3uLt8V",
        "colab_type": "text"
      },
      "source": [
        "Algumas células possuem valores inconsistentes, como as da coluna CALORIAS. Estes valores serão removidos."
      ]
    },
    {
      "cell_type": "code",
      "metadata": {
        "id": "LNvpw_I7J98R",
        "colab_type": "code",
        "colab": {
          "base_uri": "https://localhost:8080/",
          "height": 34
        },
        "outputId": "63b1cef0-e22b-4dbf-f9a2-b4162d86a08b"
      },
      "source": [
        "condition_0 = df['CALORIES'] > 1100\n",
        "df = df[condition_0]\n",
        "df.shape"
      ],
      "execution_count": null,
      "outputs": [
        {
          "output_type": "execute_result",
          "data": {
            "text/plain": [
              "(930, 15)"
            ]
          },
          "metadata": {
            "tags": []
          },
          "execution_count": 15
        }
      ]
    },
    {
      "cell_type": "markdown",
      "metadata": {
        "id": "_g553Ij5qyxX",
        "colab_type": "text"
      },
      "source": [
        "Analisando correlações"
      ]
    },
    {
      "cell_type": "code",
      "metadata": {
        "id": "HO43cYCqXZ74",
        "colab_type": "code",
        "colab": {
          "base_uri": "https://localhost:8080/",
          "height": 503
        },
        "outputId": "a38b132d-cb6d-4314-8c6b-380317e1f914"
      },
      "source": [
        "df.corr()"
      ],
      "execution_count": null,
      "outputs": [
        {
          "output_type": "execute_result",
          "data": {
            "text/html": [
              "<div>\n",
              "<style scoped>\n",
              "    .dataframe tbody tr th:only-of-type {\n",
              "        vertical-align: middle;\n",
              "    }\n",
              "\n",
              "    .dataframe tbody tr th {\n",
              "        vertical-align: top;\n",
              "    }\n",
              "\n",
              "    .dataframe thead th {\n",
              "        text-align: right;\n",
              "    }\n",
              "</style>\n",
              "<table border=\"1\" class=\"dataframe\">\n",
              "  <thead>\n",
              "    <tr style=\"text-align: right;\">\n",
              "      <th></th>\n",
              "      <th>ID</th>\n",
              "      <th>TOTAL_STEPS</th>\n",
              "      <th>TOTAL_DISTANCE</th>\n",
              "      <th>MEAN_DAILY_MET</th>\n",
              "      <th>MAX_DAILY_MET</th>\n",
              "      <th>CALORIES</th>\n",
              "      <th>VERY_ACTIVE_DISTANCE</th>\n",
              "      <th>MODERATE_ACTIVE_DISTANCE</th>\n",
              "      <th>LIGHT_ACTIVE_DIST</th>\n",
              "      <th>SEDENTARY_ACTIVE_DIST</th>\n",
              "      <th>VERY_ACTIVE_MINUTES</th>\n",
              "      <th>FAIRLY_ACTIVE_MINUTES</th>\n",
              "      <th>LIGHT_ACTIVE_MINUTES</th>\n",
              "      <th>SEDENTARY_ACTIVE_MINUTES</th>\n",
              "    </tr>\n",
              "  </thead>\n",
              "  <tbody>\n",
              "    <tr>\n",
              "      <th>ID</th>\n",
              "      <td>1.000000</td>\n",
              "      <td>0.208859</td>\n",
              "      <td>0.264935</td>\n",
              "      <td>0.185704</td>\n",
              "      <td>0.102559</td>\n",
              "      <td>0.434117</td>\n",
              "      <td>0.334384</td>\n",
              "      <td>0.043471</td>\n",
              "      <td>0.037553</td>\n",
              "      <td>0.239713</td>\n",
              "      <td>0.319193</td>\n",
              "      <td>0.095500</td>\n",
              "      <td>-0.083750</td>\n",
              "      <td>-0.039486</td>\n",
              "    </tr>\n",
              "    <tr>\n",
              "      <th>TOTAL_STEPS</th>\n",
              "      <td>0.208859</td>\n",
              "      <td>1.000000</td>\n",
              "      <td>0.983794</td>\n",
              "      <td>0.848867</td>\n",
              "      <td>0.625321</td>\n",
              "      <td>0.566644</td>\n",
              "      <td>0.674668</td>\n",
              "      <td>0.253119</td>\n",
              "      <td>0.651348</td>\n",
              "      <td>0.101222</td>\n",
              "      <td>0.519748</td>\n",
              "      <td>0.185197</td>\n",
              "      <td>0.508123</td>\n",
              "      <td>-0.322830</td>\n",
              "    </tr>\n",
              "    <tr>\n",
              "      <th>TOTAL_DISTANCE</th>\n",
              "      <td>0.264935</td>\n",
              "      <td>0.983794</td>\n",
              "      <td>1.000000</td>\n",
              "      <td>0.830369</td>\n",
              "      <td>0.609379</td>\n",
              "      <td>0.627375</td>\n",
              "      <td>0.727958</td>\n",
              "      <td>0.227831</td>\n",
              "      <td>0.622900</td>\n",
              "      <td>0.100138</td>\n",
              "      <td>0.540342</td>\n",
              "      <td>0.165876</td>\n",
              "      <td>0.453699</td>\n",
              "      <td>-0.279194</td>\n",
              "    </tr>\n",
              "    <tr>\n",
              "      <th>MEAN_DAILY_MET</th>\n",
              "      <td>0.185704</td>\n",
              "      <td>0.848867</td>\n",
              "      <td>0.830369</td>\n",
              "      <td>1.000000</td>\n",
              "      <td>0.752896</td>\n",
              "      <td>0.668769</td>\n",
              "      <td>0.564037</td>\n",
              "      <td>0.143838</td>\n",
              "      <td>0.637847</td>\n",
              "      <td>0.147807</td>\n",
              "      <td>0.591742</td>\n",
              "      <td>0.144624</td>\n",
              "      <td>0.557315</td>\n",
              "      <td>-0.484364</td>\n",
              "    </tr>\n",
              "    <tr>\n",
              "      <th>MAX_DAILY_MET</th>\n",
              "      <td>0.102559</td>\n",
              "      <td>0.625321</td>\n",
              "      <td>0.609379</td>\n",
              "      <td>0.752896</td>\n",
              "      <td>1.000000</td>\n",
              "      <td>0.414120</td>\n",
              "      <td>0.469926</td>\n",
              "      <td>0.074027</td>\n",
              "      <td>0.360447</td>\n",
              "      <td>0.037575</td>\n",
              "      <td>0.414177</td>\n",
              "      <td>0.054100</td>\n",
              "      <td>0.294315</td>\n",
              "      <td>-0.364557</td>\n",
              "    </tr>\n",
              "    <tr>\n",
              "      <th>CALORIES</th>\n",
              "      <td>0.434117</td>\n",
              "      <td>0.566644</td>\n",
              "      <td>0.627375</td>\n",
              "      <td>0.668769</td>\n",
              "      <td>0.414120</td>\n",
              "      <td>1.000000</td>\n",
              "      <td>0.443677</td>\n",
              "      <td>0.056411</td>\n",
              "      <td>0.423612</td>\n",
              "      <td>0.109966</td>\n",
              "      <td>0.541455</td>\n",
              "      <td>0.117741</td>\n",
              "      <td>0.212182</td>\n",
              "      <td>-0.172375</td>\n",
              "    </tr>\n",
              "    <tr>\n",
              "      <th>VERY_ACTIVE_DISTANCE</th>\n",
              "      <td>0.334384</td>\n",
              "      <td>0.674668</td>\n",
              "      <td>0.727958</td>\n",
              "      <td>0.564037</td>\n",
              "      <td>0.469926</td>\n",
              "      <td>0.443677</td>\n",
              "      <td>1.000000</td>\n",
              "      <td>-0.011130</td>\n",
              "      <td>0.112685</td>\n",
              "      <td>0.009652</td>\n",
              "      <td>0.779478</td>\n",
              "      <td>-0.007058</td>\n",
              "      <td>0.011819</td>\n",
              "      <td>-0.042328</td>\n",
              "    </tr>\n",
              "    <tr>\n",
              "      <th>MODERATE_ACTIVE_DISTANCE</th>\n",
              "      <td>0.043471</td>\n",
              "      <td>0.253119</td>\n",
              "      <td>0.227831</td>\n",
              "      <td>0.143838</td>\n",
              "      <td>0.074027</td>\n",
              "      <td>0.056411</td>\n",
              "      <td>-0.011130</td>\n",
              "      <td>1.000000</td>\n",
              "      <td>0.097163</td>\n",
              "      <td>0.035494</td>\n",
              "      <td>-0.018441</td>\n",
              "      <td>0.906053</td>\n",
              "      <td>0.034539</td>\n",
              "      <td>-0.145822</td>\n",
              "    </tr>\n",
              "    <tr>\n",
              "      <th>LIGHT_ACTIVE_DIST</th>\n",
              "      <td>0.037553</td>\n",
              "      <td>0.651348</td>\n",
              "      <td>0.622900</td>\n",
              "      <td>0.637847</td>\n",
              "      <td>0.360447</td>\n",
              "      <td>0.423612</td>\n",
              "      <td>0.112685</td>\n",
              "      <td>0.097163</td>\n",
              "      <td>1.000000</td>\n",
              "      <td>0.172487</td>\n",
              "      <td>0.014581</td>\n",
              "      <td>0.030345</td>\n",
              "      <td>0.864214</td>\n",
              "      <td>-0.395908</td>\n",
              "    </tr>\n",
              "    <tr>\n",
              "      <th>SEDENTARY_ACTIVE_DIST</th>\n",
              "      <td>0.239713</td>\n",
              "      <td>0.101222</td>\n",
              "      <td>0.100138</td>\n",
              "      <td>0.147807</td>\n",
              "      <td>0.037575</td>\n",
              "      <td>0.109966</td>\n",
              "      <td>0.009652</td>\n",
              "      <td>0.035494</td>\n",
              "      <td>0.172487</td>\n",
              "      <td>1.000000</td>\n",
              "      <td>0.028159</td>\n",
              "      <td>0.010397</td>\n",
              "      <td>0.201551</td>\n",
              "      <td>-0.322599</td>\n",
              "    </tr>\n",
              "    <tr>\n",
              "      <th>VERY_ACTIVE_MINUTES</th>\n",
              "      <td>0.319193</td>\n",
              "      <td>0.519748</td>\n",
              "      <td>0.540342</td>\n",
              "      <td>0.591742</td>\n",
              "      <td>0.414177</td>\n",
              "      <td>0.541455</td>\n",
              "      <td>0.779478</td>\n",
              "      <td>-0.018441</td>\n",
              "      <td>0.014581</td>\n",
              "      <td>0.028159</td>\n",
              "      <td>1.000000</td>\n",
              "      <td>0.073316</td>\n",
              "      <td>-0.082475</td>\n",
              "      <td>-0.107901</td>\n",
              "    </tr>\n",
              "    <tr>\n",
              "      <th>FAIRLY_ACTIVE_MINUTES</th>\n",
              "      <td>0.095500</td>\n",
              "      <td>0.185197</td>\n",
              "      <td>0.165876</td>\n",
              "      <td>0.144624</td>\n",
              "      <td>0.054100</td>\n",
              "      <td>0.117741</td>\n",
              "      <td>-0.007058</td>\n",
              "      <td>0.906053</td>\n",
              "      <td>0.030345</td>\n",
              "      <td>0.010397</td>\n",
              "      <td>0.073316</td>\n",
              "      <td>1.000000</td>\n",
              "      <td>-0.029092</td>\n",
              "      <td>-0.097278</td>\n",
              "    </tr>\n",
              "    <tr>\n",
              "      <th>LIGHT_ACTIVE_MINUTES</th>\n",
              "      <td>-0.083750</td>\n",
              "      <td>0.508123</td>\n",
              "      <td>0.453699</td>\n",
              "      <td>0.557315</td>\n",
              "      <td>0.294315</td>\n",
              "      <td>0.212182</td>\n",
              "      <td>0.011819</td>\n",
              "      <td>0.034539</td>\n",
              "      <td>0.864214</td>\n",
              "      <td>0.201551</td>\n",
              "      <td>-0.082475</td>\n",
              "      <td>-0.029092</td>\n",
              "      <td>1.000000</td>\n",
              "      <td>-0.423241</td>\n",
              "    </tr>\n",
              "    <tr>\n",
              "      <th>SEDENTARY_ACTIVE_MINUTES</th>\n",
              "      <td>-0.039486</td>\n",
              "      <td>-0.322830</td>\n",
              "      <td>-0.279194</td>\n",
              "      <td>-0.484364</td>\n",
              "      <td>-0.364557</td>\n",
              "      <td>-0.172375</td>\n",
              "      <td>-0.042328</td>\n",
              "      <td>-0.145822</td>\n",
              "      <td>-0.395908</td>\n",
              "      <td>-0.322599</td>\n",
              "      <td>-0.107901</td>\n",
              "      <td>-0.097278</td>\n",
              "      <td>-0.423241</td>\n",
              "      <td>1.000000</td>\n",
              "    </tr>\n",
              "  </tbody>\n",
              "</table>\n",
              "</div>"
            ],
            "text/plain": [
              "                                ID  ...  SEDENTARY_ACTIVE_MINUTES\n",
              "ID                        1.000000  ...                 -0.039486\n",
              "TOTAL_STEPS               0.208859  ...                 -0.322830\n",
              "TOTAL_DISTANCE            0.264935  ...                 -0.279194\n",
              "MEAN_DAILY_MET            0.185704  ...                 -0.484364\n",
              "MAX_DAILY_MET             0.102559  ...                 -0.364557\n",
              "CALORIES                  0.434117  ...                 -0.172375\n",
              "VERY_ACTIVE_DISTANCE      0.334384  ...                 -0.042328\n",
              "MODERATE_ACTIVE_DISTANCE  0.043471  ...                 -0.145822\n",
              "LIGHT_ACTIVE_DIST         0.037553  ...                 -0.395908\n",
              "SEDENTARY_ACTIVE_DIST     0.239713  ...                 -0.322599\n",
              "VERY_ACTIVE_MINUTES       0.319193  ...                 -0.107901\n",
              "FAIRLY_ACTIVE_MINUTES     0.095500  ...                 -0.097278\n",
              "LIGHT_ACTIVE_MINUTES     -0.083750  ...                 -0.423241\n",
              "SEDENTARY_ACTIVE_MINUTES -0.039486  ...                  1.000000\n",
              "\n",
              "[14 rows x 14 columns]"
            ]
          },
          "metadata": {
            "tags": []
          },
          "execution_count": 16
        }
      ]
    },
    {
      "cell_type": "markdown",
      "metadata": {
        "id": "ewEKsWDujdDy",
        "colab_type": "text"
      },
      "source": [
        "### Feature Engineering"
      ]
    },
    {
      "cell_type": "code",
      "metadata": {
        "id": "wWvCrXHtZpAb",
        "colab_type": "code",
        "colab": {
          "base_uri": "https://localhost:8080/",
          "height": 34
        },
        "outputId": "97702932-34de-48ec-8b0e-e03ba300cbcf"
      },
      "source": [
        "df['TOTAL_ACTIVE_MINUTES'] = df.iloc[:,10:15].sum(axis=1)\n",
        "df['TOTAL_ACTIVE_DISTANCE'] = df.iloc[:,6:10].sum(axis=1)\n",
        "df.shape"
      ],
      "execution_count": null,
      "outputs": [
        {
          "output_type": "execute_result",
          "data": {
            "text/plain": [
              "(930, 17)"
            ]
          },
          "metadata": {
            "tags": []
          },
          "execution_count": 17
        }
      ]
    },
    {
      "cell_type": "code",
      "metadata": {
        "id": "GSZjmQGrdEeq",
        "colab_type": "code",
        "colab": {
          "base_uri": "https://localhost:8080/",
          "height": 34
        },
        "outputId": "a822db28-dd3c-4095-ef29-3b3ef4db2b91"
      },
      "source": [
        "df['%_ACTIVE_MINUTES'] = (df['VERY_ACTIVE_MINUTES'] / df['TOTAL_ACTIVE_MINUTES'])*100\n",
        "df['%_ACTIVE_DISTANCE'] = (df['VERY_ACTIVE_DISTANCE'] / df['TOTAL_ACTIVE_DISTANCE'])*100\n",
        "df.shape"
      ],
      "execution_count": null,
      "outputs": [
        {
          "output_type": "execute_result",
          "data": {
            "text/plain": [
              "(930, 19)"
            ]
          },
          "metadata": {
            "tags": []
          },
          "execution_count": 18
        }
      ]
    },
    {
      "cell_type": "markdown",
      "metadata": {
        "id": "d9svPLDyODGx",
        "colab_type": "text"
      },
      "source": [
        "Um dia possui 1440 minutos, então vou eliminar valores que se distanciam demais do valor esperado porque provavelmente foram coletados de maneira errônea. Os valores acima de 1440 minutos foram substituídos pelo valor 1440."
      ]
    },
    {
      "cell_type": "code",
      "metadata": {
        "id": "gU8atdPYMop0",
        "colab_type": "code",
        "colab": {
          "base_uri": "https://localhost:8080/",
          "height": 34
        },
        "outputId": "d4a9cafe-8690-42e3-9333-56c5ed89ddcb"
      },
      "source": [
        "df['TOTAL_ACTIVE_MINUTES'] = np.where((df['TOTAL_ACTIVE_MINUTES'] > 1440), 1440, df.TOTAL_ACTIVE_MINUTES)\n",
        "condition_0 = df['TOTAL_ACTIVE_MINUTES'] > 500\n",
        "df = df[condition_0]\n",
        "df.shape"
      ],
      "execution_count": null,
      "outputs": [
        {
          "output_type": "execute_result",
          "data": {
            "text/plain": [
              "(924, 19)"
            ]
          },
          "metadata": {
            "tags": []
          },
          "execution_count": 19
        }
      ]
    },
    {
      "cell_type": "code",
      "metadata": {
        "id": "nMSkKBCaQk6-",
        "colab_type": "code",
        "colab": {
          "base_uri": "https://localhost:8080/",
          "height": 34
        },
        "outputId": "2aaa4142-0c12-4c8c-9a21-5ec666c197e5"
      },
      "source": [
        "condition_0 = df['TOTAL_STEPS'] > 100\n",
        "df = df[condition_0]\n",
        "df.shape"
      ],
      "execution_count": null,
      "outputs": [
        {
          "output_type": "execute_result",
          "data": {
            "text/plain": [
              "(895, 19)"
            ]
          },
          "metadata": {
            "tags": []
          },
          "execution_count": 20
        }
      ]
    },
    {
      "cell_type": "markdown",
      "metadata": {
        "id": "aoyJ2Bp5o-Mf",
        "colab_type": "text"
      },
      "source": [
        "Após criar novos atributos, vamos tentar separar os indivíduos em 2 grupos diferentes baseados no nível de sedentarismo utilizando estes atributos. "
      ]
    },
    {
      "cell_type": "code",
      "metadata": {
        "id": "d08dQLsml2yT",
        "colab_type": "code",
        "colab": {
          "base_uri": "https://localhost:8080/",
          "height": 297
        },
        "outputId": "270a9bb8-fedf-4864-bc9c-f2d9726b8c81"
      },
      "source": [
        "df.plot(x=['%_ACTIVE_MINUTES'], y='%_ACTIVE_DISTANCE',kind='scatter')\n"
      ],
      "execution_count": null,
      "outputs": [
        {
          "output_type": "execute_result",
          "data": {
            "text/plain": [
              "<matplotlib.axes._subplots.AxesSubplot at 0x7f97bd139630>"
            ]
          },
          "metadata": {
            "tags": []
          },
          "execution_count": 21
        },
        {
          "output_type": "display_data",
          "data": {
            "image/png": "[encoded data removed]",
            "text/plain": [
              "<Figure size 432x288 with 1 Axes>"
            ]
          },
          "metadata": {
            "tags": [],
            "needs_background": "light"
          }
        }
      ]
    },
    {
      "cell_type": "markdown",
      "metadata": {
        "id": "gAuDvceMpTwS",
        "colab_type": "text"
      },
      "source": [
        "Analisando o Scatter Plot acima não está claro se existem 2 grupos distintos. Vamos agora analisar a média dos valores para cada indivíduo"
      ]
    },
    {
      "cell_type": "code",
      "metadata": {
        "id": "IkYYGn-pnGk5",
        "colab_type": "code",
        "colab": {
          "base_uri": "https://localhost:8080/",
          "height": 255
        },
        "outputId": "47b85e0c-419d-469e-a287-9f0f5517f98b"
      },
      "source": [
        "df_mean = df.groupby(['ID']).mean()\n",
        "df_mean.head()\n"
      ],
      "execution_count": null,
      "outputs": [
        {
          "output_type": "execute_result",
          "data": {
            "text/html": [
              "<div>\n",
              "<style scoped>\n",
              "    .dataframe tbody tr th:only-of-type {\n",
              "        vertical-align: middle;\n",
              "    }\n",
              "\n",
              "    .dataframe tbody tr th {\n",
              "        vertical-align: top;\n",
              "    }\n",
              "\n",
              "    .dataframe thead th {\n",
              "        text-align: right;\n",
              "    }\n",
              "</style>\n",
              "<table border=\"1\" class=\"dataframe\">\n",
              "  <thead>\n",
              "    <tr style=\"text-align: right;\">\n",
              "      <th></th>\n",
              "      <th>TOTAL_STEPS</th>\n",
              "      <th>TOTAL_DISTANCE</th>\n",
              "      <th>MEAN_DAILY_MET</th>\n",
              "      <th>MAX_DAILY_MET</th>\n",
              "      <th>CALORIES</th>\n",
              "      <th>VERY_ACTIVE_DISTANCE</th>\n",
              "      <th>MODERATE_ACTIVE_DISTANCE</th>\n",
              "      <th>LIGHT_ACTIVE_DIST</th>\n",
              "      <th>SEDENTARY_ACTIVE_DIST</th>\n",
              "      <th>VERY_ACTIVE_MINUTES</th>\n",
              "      <th>FAIRLY_ACTIVE_MINUTES</th>\n",
              "      <th>LIGHT_ACTIVE_MINUTES</th>\n",
              "      <th>SEDENTARY_ACTIVE_MINUTES</th>\n",
              "      <th>TOTAL_ACTIVE_MINUTES</th>\n",
              "      <th>TOTAL_ACTIVE_DISTANCE</th>\n",
              "      <th>%_ACTIVE_MINUTES</th>\n",
              "      <th>%_ACTIVE_DISTANCE</th>\n",
              "    </tr>\n",
              "    <tr>\n",
              "      <th>ID</th>\n",
              "      <th></th>\n",
              "      <th></th>\n",
              "      <th></th>\n",
              "      <th></th>\n",
              "      <th></th>\n",
              "      <th></th>\n",
              "      <th></th>\n",
              "      <th></th>\n",
              "      <th></th>\n",
              "      <th></th>\n",
              "      <th></th>\n",
              "      <th></th>\n",
              "      <th></th>\n",
              "      <th></th>\n",
              "      <th></th>\n",
              "      <th></th>\n",
              "      <th></th>\n",
              "    </tr>\n",
              "  </thead>\n",
              "  <tbody>\n",
              "    <tr>\n",
              "      <th>1503960366</th>\n",
              "      <td>12528.677419</td>\n",
              "      <td>8.071935</td>\n",
              "      <td>16.699355</td>\n",
              "      <td>97.935484</td>\n",
              "      <td>1873.935484</td>\n",
              "      <td>2.940968</td>\n",
              "      <td>0.826774</td>\n",
              "      <td>4.299677</td>\n",
              "      <td>0.000000</td>\n",
              "      <td>39.870968</td>\n",
              "      <td>19.903226</td>\n",
              "      <td>228.032258</td>\n",
              "      <td>848.161290</td>\n",
              "      <td>1125.967742</td>\n",
              "      <td>1882.002903</td>\n",
              "      <td>3.564987</td>\n",
              "      <td>0.155104</td>\n",
              "    </tr>\n",
              "    <tr>\n",
              "      <th>1624580081</th>\n",
              "      <td>5836.333333</td>\n",
              "      <td>3.981000</td>\n",
              "      <td>12.534000</td>\n",
              "      <td>70.333333</td>\n",
              "      <td>1499.400000</td>\n",
              "      <td>2.164333</td>\n",
              "      <td>0.888667</td>\n",
              "      <td>2.629667</td>\n",
              "      <td>0.012000</td>\n",
              "      <td>22.100000</td>\n",
              "      <td>14.166667</td>\n",
              "      <td>155.033333</td>\n",
              "      <td>1270.000000</td>\n",
              "      <td>1440.000000</td>\n",
              "      <td>1505.082667</td>\n",
              "      <td>1.511019</td>\n",
              "      <td>0.124749</td>\n",
              "    </tr>\n",
              "    <tr>\n",
              "      <th>1644430081</th>\n",
              "      <td>7282.966667</td>\n",
              "      <td>5.295333</td>\n",
              "      <td>14.065667</td>\n",
              "      <td>76.500000</td>\n",
              "      <td>2811.300000</td>\n",
              "      <td>0.985333</td>\n",
              "      <td>1.547667</td>\n",
              "      <td>3.609000</td>\n",
              "      <td>0.010667</td>\n",
              "      <td>12.966667</td>\n",
              "      <td>35.133333</td>\n",
              "      <td>178.466667</td>\n",
              "      <td>1161.866667</td>\n",
              "      <td>1376.102000</td>\n",
              "      <td>2817.442000</td>\n",
              "      <td>0.932406</td>\n",
              "      <td>0.034154</td>\n",
              "    </tr>\n",
              "    <tr>\n",
              "      <th>1844505072</th>\n",
              "      <td>4247.380952</td>\n",
              "      <td>2.807619</td>\n",
              "      <td>12.573810</td>\n",
              "      <td>50.476190</td>\n",
              "      <td>1693.666667</td>\n",
              "      <td>0.303810</td>\n",
              "      <td>0.510952</td>\n",
              "      <td>2.710000</td>\n",
              "      <td>0.010000</td>\n",
              "      <td>4.380952</td>\n",
              "      <td>12.666667</td>\n",
              "      <td>184.904762</td>\n",
              "      <td>1188.571429</td>\n",
              "      <td>1355.906667</td>\n",
              "      <td>1697.191429</td>\n",
              "      <td>0.351444</td>\n",
              "      <td>0.017085</td>\n",
              "    </tr>\n",
              "    <tr>\n",
              "      <th>1927972279</th>\n",
              "      <td>1533.516129</td>\n",
              "      <td>1.061290</td>\n",
              "      <td>10.640968</td>\n",
              "      <td>33.000000</td>\n",
              "      <td>2172.806452</td>\n",
              "      <td>0.367742</td>\n",
              "      <td>0.307419</td>\n",
              "      <td>0.933871</td>\n",
              "      <td>0.010000</td>\n",
              "      <td>5.193548</td>\n",
              "      <td>7.580645</td>\n",
              "      <td>66.387097</td>\n",
              "      <td>1317.419355</td>\n",
              "      <td>1361.905806</td>\n",
              "      <td>2174.415484</td>\n",
              "      <td>0.370161</td>\n",
              "      <td>0.017231</td>\n",
              "    </tr>\n",
              "  </tbody>\n",
              "</table>\n",
              "</div>"
            ],
            "text/plain": [
              "             TOTAL_STEPS  TOTAL_DISTANCE  ...  %_ACTIVE_MINUTES  %_ACTIVE_DISTANCE\n",
              "ID                                        ...                                     \n",
              "1503960366  12528.677419        8.071935  ...          3.564987           0.155104\n",
              "1624580081   5836.333333        3.981000  ...          1.511019           0.124749\n",
              "1644430081   7282.966667        5.295333  ...          0.932406           0.034154\n",
              "1844505072   4247.380952        2.807619  ...          0.351444           0.017085\n",
              "1927972279   1533.516129        1.061290  ...          0.370161           0.017231\n",
              "\n",
              "[5 rows x 17 columns]"
            ]
          },
          "metadata": {
            "tags": []
          },
          "execution_count": 22
        }
      ]
    },
    {
      "cell_type": "code",
      "metadata": {
        "id": "fMhb_BXEoV9f",
        "colab_type": "code",
        "colab": {
          "base_uri": "https://localhost:8080/",
          "height": 297
        },
        "outputId": "b1c973e5-c072-4ff0-f239-bf333a58bc9c"
      },
      "source": [
        "df_mean.plot(x='%_ACTIVE_MINUTES', y='%_ACTIVE_DISTANCE',kind='scatter')"
      ],
      "execution_count": null,
      "outputs": [
        {
          "output_type": "execute_result",
          "data": {
            "text/plain": [
              "<matplotlib.axes._subplots.AxesSubplot at 0x7f97ba80ea90>"
            ]
          },
          "metadata": {
            "tags": []
          },
          "execution_count": 23
        },
        {
          "output_type": "display_data",
          "data": {
            "image/png": "[encoded data removed]",
            "text/plain": [
              "<Figure size 432x288 with 1 Axes>"
            ]
          },
          "metadata": {
            "tags": [],
            "needs_background": "light"
          }
        }
      ]
    },
    {
      "cell_type": "markdown",
      "metadata": {
        "id": "TFmrCeQJrAIh",
        "colab_type": "text"
      },
      "source": [
        "Agora conseguimos visualizar a separação entre grupos, mas para uma análise mais aprofundada vamos rodar um algoritmo de clusterização para ver o resultado."
      ]
    },
    {
      "cell_type": "code",
      "metadata": {
        "id": "ETTlrHbioi43",
        "colab_type": "code",
        "colab": {}
      },
      "source": [
        "from sklearn.preprocessing import StandardScaler\n",
        "import numpy as np\n",
        "import matplotlib.pyplot as plt \n",
        "from sklearn.cluster import KMeans"
      ],
      "execution_count": null,
      "outputs": []
    },
    {
      "cell_type": "markdown",
      "metadata": {
        "id": "HT85vvZEwtL4",
        "colab_type": "text"
      },
      "source": [
        "### Clusterização"
      ]
    },
    {
      "cell_type": "code",
      "metadata": {
        "id": "T7qawX3lsTvI",
        "colab_type": "code",
        "colab": {}
      },
      "source": [
        "X = df.iloc[:,17:19].values\n",
        "X = np.nan_to_num(X)\n",
        "# Normalization\n",
        "Clus_dataSet = StandardScaler().fit_transform(X)\n",
        "clusterNum = 2  # Number of Clusters\n",
        "k_means = KMeans(init = \"k-means++\", n_clusters = clusterNum, n_init = 20)\n",
        "k_means.fit(X)\n",
        "labels = k_means.labels_\n",
        "\n",
        "X2 = df_mean.iloc[:,15:17].values\n",
        "X2 = np.nan_to_num(X2)\n",
        "# Normalization\n",
        "Clus_dataSet2 = StandardScaler().fit_transform(X2)\n",
        "clusterNum = 2  # Number of Clusters\n",
        "k_means = KMeans(init = \"k-means++\", n_clusters = clusterNum, n_init = 40)\n",
        "k_means.fit(X2)\n",
        "labels2 = k_means.labels_"
      ],
      "execution_count": null,
      "outputs": []
    },
    {
      "cell_type": "markdown",
      "metadata": {
        "id": "HmU4TUMBzJb5",
        "colab_type": "text"
      },
      "source": [
        "Clusterização com valores diários"
      ]
    },
    {
      "cell_type": "code",
      "metadata": {
        "id": "nB3jrreYsdog",
        "colab_type": "code",
        "colab": {
          "base_uri": "https://localhost:8080/",
          "height": 286
        },
        "outputId": "d758f902-d89e-4739-e13d-a3aa3353c1a9"
      },
      "source": [
        "plt.scatter(X[:, 0], X[:, 1],  c=labels.astype(np.float), alpha=0.5)\n",
        "plt.xlabel('%_ACTIVE_MINUTES', fontsize=16)\n",
        "plt.ylabel('%_ACTIVE_DISTANCE', fontsize=16)\n",
        "\n",
        "plt.show()"
      ],
      "execution_count": null,
      "outputs": [
        {
          "output_type": "display_data",
          "data": {
            "image/png": "[encoded data removed]",
            "text/plain": [
              "<Figure size 432x288 with 1 Axes>"
            ]
          },
          "metadata": {
            "tags": [],
            "needs_background": "light"
          }
        }
      ]
    },
    {
      "cell_type": "markdown",
      "metadata": {
        "id": "kiJitjauzOdZ",
        "colab_type": "text"
      },
      "source": [
        "Clusterização com valores médios"
      ]
    },
    {
      "cell_type": "code",
      "metadata": {
        "id": "2fiERlAEuZ3g",
        "colab_type": "code",
        "colab": {
          "base_uri": "https://localhost:8080/",
          "height": 303
        },
        "outputId": "f4dd23a8-f70a-43c8-def1-c8d18a77ce01"
      },
      "source": [
        "plt.scatter(X2[:, 0], X2[:, 1], c=labels2.astype(np.float), alpha=0.5)\n",
        "plt.xlabel('%_ACTIVE_MINUTES', fontsize=16)\n",
        "plt.ylabel('%_ACTIVE_DISTANCE', fontsize=16)"
      ],
      "execution_count": null,
      "outputs": [
        {
          "output_type": "execute_result",
          "data": {
            "text/plain": [
              "Text(0, 0.5, '%_ACTIVE_DISTANCE')"
            ]
          },
          "metadata": {
            "tags": []
          },
          "execution_count": 27
        },
        {
          "output_type": "display_data",
          "data": {
            "image/png": "[encoded data removed]",
            "text/plain": [
              "<Figure size 432x288 with 1 Axes>"
            ]
          },
          "metadata": {
            "tags": [],
            "needs_background": "light"
          }
        }
      ]
    },
    {
      "cell_type": "markdown",
      "metadata": {
        "id": "fzC-2M533B9b",
        "colab_type": "text"
      },
      "source": [
        "Acrescentando uma nova dimensão a nossa clusterização"
      ]
    },
    {
      "cell_type": "code",
      "metadata": {
        "id": "nGn_jHz5x-P3",
        "colab_type": "code",
        "colab": {}
      },
      "source": [
        "X3 = df_mean[['CALORIES', '%_ACTIVE_DISTANCE', '%_ACTIVE_MINUTES']].values\n",
        "X3 = np.nan_to_num(X3)\n",
        "# Normalization\n",
        "Clus_dataSet3 = StandardScaler().fit_transform(X)\n",
        "clusterNum = 2  # Number of Clusters\n",
        "k_means = KMeans(init = \"k-means++\", n_clusters = clusterNum, n_init = 40)\n",
        "k_means.fit(X3)\n",
        "labels3 = k_means.labels_"
      ],
      "execution_count": null,
      "outputs": []
    },
    {
      "cell_type": "code",
      "metadata": {
        "id": "MvZUV1cU1BoI",
        "colab_type": "code",
        "colab": {
          "base_uri": "https://localhost:8080/",
          "height": 463
        },
        "outputId": "6c9ac0e3-7771-4931-bbfc-7c7aaa104bd0"
      },
      "source": [
        "from mpl_toolkits.mplot3d import Axes3D \n",
        "fig = plt.figure(1, figsize=(8, 6))\n",
        "plt.clf()\n",
        "ax = Axes3D(fig, rect=[0, 0, .95, 1], elev=48, azim=134)\n",
        "plt.cla()\n",
        "\n",
        "ax.set_xlabel('Calories')\n",
        "ax.set_ylabel('%_distance')\n",
        "ax.set_zlabel('%_minutes')\n",
        "\n",
        "ax.scatter(X3[:, 0], X3[:, 1], X3[:, 2], c= labels3.astype(np.float))\n",
        "plt.show()"
      ],
      "execution_count": null,
      "outputs": [
        {
          "output_type": "display_data",
          "data": {
            "image/png": "[encoded data removed]",
            "text/plain": [
              "<Figure size 576x432 with 1 Axes>"
            ]
          },
          "metadata": {
            "tags": [],
            "needs_background": "light"
          }
        }
      ]
    },
    {
      "cell_type": "code",
      "metadata": {
        "id": "OjzIDfwj3zTT",
        "colab_type": "code",
        "colab": {
          "base_uri": "https://localhost:8080/",
          "height": 162
        },
        "outputId": "ae3aaf7e-35e4-4e5c-ad77-312590fec59a"
      },
      "source": [
        "df_mean[\"Cluster_label\"] = labels3\n",
        "df_cluster = df_mean.groupby(['Cluster_label']).mean()\n",
        "df_cluster"
      ],
      "execution_count": null,
      "outputs": [
        {
          "output_type": "execute_result",
          "data": {
            "text/html": [
              "<div>\n",
              "<style scoped>\n",
              "    .dataframe tbody tr th:only-of-type {\n",
              "        vertical-align: middle;\n",
              "    }\n",
              "\n",
              "    .dataframe tbody tr th {\n",
              "        vertical-align: top;\n",
              "    }\n",
              "\n",
              "    .dataframe thead th {\n",
              "        text-align: right;\n",
              "    }\n",
              "</style>\n",
              "<table border=\"1\" class=\"dataframe\">\n",
              "  <thead>\n",
              "    <tr style=\"text-align: right;\">\n",
              "      <th></th>\n",
              "      <th>TOTAL_STEPS</th>\n",
              "      <th>TOTAL_DISTANCE</th>\n",
              "      <th>MEAN_DAILY_MET</th>\n",
              "      <th>MAX_DAILY_MET</th>\n",
              "      <th>CALORIES</th>\n",
              "      <th>VERY_ACTIVE_DISTANCE</th>\n",
              "      <th>MODERATE_ACTIVE_DISTANCE</th>\n",
              "      <th>LIGHT_ACTIVE_DIST</th>\n",
              "      <th>SEDENTARY_ACTIVE_DIST</th>\n",
              "      <th>VERY_ACTIVE_MINUTES</th>\n",
              "      <th>FAIRLY_ACTIVE_MINUTES</th>\n",
              "      <th>LIGHT_ACTIVE_MINUTES</th>\n",
              "      <th>SEDENTARY_ACTIVE_MINUTES</th>\n",
              "      <th>TOTAL_ACTIVE_MINUTES</th>\n",
              "      <th>TOTAL_ACTIVE_DISTANCE</th>\n",
              "      <th>%_ACTIVE_MINUTES</th>\n",
              "      <th>%_ACTIVE_DISTANCE</th>\n",
              "    </tr>\n",
              "    <tr>\n",
              "      <th>Cluster_label</th>\n",
              "      <th></th>\n",
              "      <th></th>\n",
              "      <th></th>\n",
              "      <th></th>\n",
              "      <th></th>\n",
              "      <th></th>\n",
              "      <th></th>\n",
              "      <th></th>\n",
              "      <th></th>\n",
              "      <th></th>\n",
              "      <th></th>\n",
              "      <th></th>\n",
              "      <th></th>\n",
              "      <th></th>\n",
              "      <th></th>\n",
              "      <th></th>\n",
              "      <th></th>\n",
              "    </tr>\n",
              "  </thead>\n",
              "  <tbody>\n",
              "    <tr>\n",
              "      <th>0</th>\n",
              "      <td>6827.334679</td>\n",
              "      <td>4.638165</td>\n",
              "      <td>13.900534</td>\n",
              "      <td>69.757081</td>\n",
              "      <td>1938.490867</td>\n",
              "      <td>1.308263</td>\n",
              "      <td>0.814253</td>\n",
              "      <td>3.242954</td>\n",
              "      <td>0.022942</td>\n",
              "      <td>17.864158</td>\n",
              "      <td>19.253454</td>\n",
              "      <td>208.355007</td>\n",
              "      <td>997.277867</td>\n",
              "      <td>1224.284184</td>\n",
              "      <td>1943.856337</td>\n",
              "      <td>1.510887</td>\n",
              "      <td>0.067784</td>\n",
              "    </tr>\n",
              "    <tr>\n",
              "      <th>1</th>\n",
              "      <td>9896.138030</td>\n",
              "      <td>7.505609</td>\n",
              "      <td>15.985338</td>\n",
              "      <td>83.514400</td>\n",
              "      <td>2941.815395</td>\n",
              "      <td>2.904725</td>\n",
              "      <td>0.941524</td>\n",
              "      <td>4.131568</td>\n",
              "      <td>0.022996</td>\n",
              "      <td>41.833245</td>\n",
              "      <td>24.481307</td>\n",
              "      <td>206.139316</td>\n",
              "      <td>1005.464115</td>\n",
              "      <td>1261.033655</td>\n",
              "      <td>2949.793212</td>\n",
              "      <td>3.502526</td>\n",
              "      <td>0.093915</td>\n",
              "    </tr>\n",
              "  </tbody>\n",
              "</table>\n",
              "</div>"
            ],
            "text/plain": [
              "               TOTAL_STEPS  TOTAL_DISTANCE  ...  %_ACTIVE_MINUTES  %_ACTIVE_DISTANCE\n",
              "Cluster_label                               ...                                     \n",
              "0              6827.334679        4.638165  ...          1.510887           0.067784\n",
              "1              9896.138030        7.505609  ...          3.502526           0.093915\n",
              "\n",
              "[2 rows x 17 columns]"
            ]
          },
          "metadata": {
            "tags": []
          },
          "execution_count": 30
        }
      ]
    },
    {
      "cell_type": "markdown",
      "metadata": {
        "id": "Fd1Wnzyd-m1f",
        "colab_type": "text"
      },
      "source": [
        "Através dos valores médios dos atributos do conjunto de dados podemos ver claramente que dois grupos distintos foram criados de acordo com o nível de sedentarismo. Principalmente se compararmos colunas como CALORIES, VERY_ACTIVE_DISTANCE, VERY_ACTIVE_MINUTES e outras."
      ]
    },
    {
      "cell_type": "code",
      "metadata": {
        "id": "1YOqdeiI95Gw",
        "colab_type": "code",
        "colab": {
          "base_uri": "https://localhost:8080/",
          "height": 111
        },
        "outputId": "7a7c5c33-5c8c-4305-bbf9-a4323ff883b2"
      },
      "source": [
        "group = df_mean.groupby(['Cluster_label']).size().to_frame(name='Count').reset_index()\n",
        "group"
      ],
      "execution_count": null,
      "outputs": [
        {
          "output_type": "execute_result",
          "data": {
            "text/html": [
              "<div>\n",
              "<style scoped>\n",
              "    .dataframe tbody tr th:only-of-type {\n",
              "        vertical-align: middle;\n",
              "    }\n",
              "\n",
              "    .dataframe tbody tr th {\n",
              "        vertical-align: top;\n",
              "    }\n",
              "\n",
              "    .dataframe thead th {\n",
              "        text-align: right;\n",
              "    }\n",
              "</style>\n",
              "<table border=\"1\" class=\"dataframe\">\n",
              "  <thead>\n",
              "    <tr style=\"text-align: right;\">\n",
              "      <th></th>\n",
              "      <th>Cluster_label</th>\n",
              "      <th>Count</th>\n",
              "    </tr>\n",
              "  </thead>\n",
              "  <tbody>\n",
              "    <tr>\n",
              "      <th>0</th>\n",
              "      <td>0</td>\n",
              "      <td>20</td>\n",
              "    </tr>\n",
              "    <tr>\n",
              "      <th>1</th>\n",
              "      <td>1</td>\n",
              "      <td>13</td>\n",
              "    </tr>\n",
              "  </tbody>\n",
              "</table>\n",
              "</div>"
            ],
            "text/plain": [
              "   Cluster_label  Count\n",
              "0              0     20\n",
              "1              1     13"
            ]
          },
          "metadata": {
            "tags": []
          },
          "execution_count": 31
        }
      ]
    },
    {
      "cell_type": "markdown",
      "metadata": {
        "id": "jq4k29Ac_oNN",
        "colab_type": "text"
      },
      "source": [
        "Agora que separamos os usuários em 2 grupos, podemos treinar um classificador para acrescentar novos usuários em cada um dos grupos"
      ]
    },
    {
      "cell_type": "code",
      "metadata": {
        "id": "wd7QWCcM_Qfu",
        "colab_type": "code",
        "colab": {
          "base_uri": "https://localhost:8080/",
          "height": 224
        },
        "outputId": "2b2bb542-3902-4443-9a17-ff0ab0fd1957"
      },
      "source": [
        "from sklearn import svm\n",
        "from sklearn import preprocessing\n",
        "from sklearn.model_selection import train_test_split\n",
        "\n",
        "df[\"Cluster_label\"] = labels\n",
        "df.tail()"
      ],
      "execution_count": null,
      "outputs": [
        {
          "output_type": "execute_result",
          "data": {
            "text/html": [
              "<div>\n",
              "<style scoped>\n",
              "    .dataframe tbody tr th:only-of-type {\n",
              "        vertical-align: middle;\n",
              "    }\n",
              "\n",
              "    .dataframe tbody tr th {\n",
              "        vertical-align: top;\n",
              "    }\n",
              "\n",
              "    .dataframe thead th {\n",
              "        text-align: right;\n",
              "    }\n",
              "</style>\n",
              "<table border=\"1\" class=\"dataframe\">\n",
              "  <thead>\n",
              "    <tr style=\"text-align: right;\">\n",
              "      <th></th>\n",
              "      <th>ID</th>\n",
              "      <th>ACTIVITY_DATE</th>\n",
              "      <th>TOTAL_STEPS</th>\n",
              "      <th>TOTAL_DISTANCE</th>\n",
              "      <th>MEAN_DAILY_MET</th>\n",
              "      <th>MAX_DAILY_MET</th>\n",
              "      <th>CALORIES</th>\n",
              "      <th>VERY_ACTIVE_DISTANCE</th>\n",
              "      <th>MODERATE_ACTIVE_DISTANCE</th>\n",
              "      <th>LIGHT_ACTIVE_DIST</th>\n",
              "      <th>SEDENTARY_ACTIVE_DIST</th>\n",
              "      <th>VERY_ACTIVE_MINUTES</th>\n",
              "      <th>FAIRLY_ACTIVE_MINUTES</th>\n",
              "      <th>LIGHT_ACTIVE_MINUTES</th>\n",
              "      <th>SEDENTARY_ACTIVE_MINUTES</th>\n",
              "      <th>TOTAL_ACTIVE_MINUTES</th>\n",
              "      <th>TOTAL_ACTIVE_DISTANCE</th>\n",
              "      <th>%_ACTIVE_MINUTES</th>\n",
              "      <th>%_ACTIVE_DISTANCE</th>\n",
              "      <th>Cluster_label</th>\n",
              "    </tr>\n",
              "  </thead>\n",
              "  <tbody>\n",
              "    <tr>\n",
              "      <th>935</th>\n",
              "      <td>8877689391</td>\n",
              "      <td>05/08/2016</td>\n",
              "      <td>10686</td>\n",
              "      <td>8.110000</td>\n",
              "      <td>16.16</td>\n",
              "      <td>88.0</td>\n",
              "      <td>2847</td>\n",
              "      <td>1.08</td>\n",
              "      <td>0.20</td>\n",
              "      <td>6.80</td>\n",
              "      <td>0.01</td>\n",
              "      <td>17</td>\n",
              "      <td>4</td>\n",
              "      <td>245</td>\n",
              "      <td>1174</td>\n",
              "      <td>1440.00</td>\n",
              "      <td>2855.08</td>\n",
              "      <td>1.180547</td>\n",
              "      <td>0.037827</td>\n",
              "      <td>0</td>\n",
              "    </tr>\n",
              "    <tr>\n",
              "      <th>936</th>\n",
              "      <td>8877689391</td>\n",
              "      <td>05/09/2016</td>\n",
              "      <td>20226</td>\n",
              "      <td>18.250000</td>\n",
              "      <td>21.01</td>\n",
              "      <td>139.0</td>\n",
              "      <td>3710</td>\n",
              "      <td>11.10</td>\n",
              "      <td>0.80</td>\n",
              "      <td>6.24</td>\n",
              "      <td>0.05</td>\n",
              "      <td>73</td>\n",
              "      <td>19</td>\n",
              "      <td>217</td>\n",
              "      <td>1131</td>\n",
              "      <td>1440.00</td>\n",
              "      <td>3728.14</td>\n",
              "      <td>5.069268</td>\n",
              "      <td>0.297736</td>\n",
              "      <td>1</td>\n",
              "    </tr>\n",
              "    <tr>\n",
              "      <th>937</th>\n",
              "      <td>8877689391</td>\n",
              "      <td>05/10/2016</td>\n",
              "      <td>10733</td>\n",
              "      <td>8.150000</td>\n",
              "      <td>16.07</td>\n",
              "      <td>98.0</td>\n",
              "      <td>2832</td>\n",
              "      <td>1.35</td>\n",
              "      <td>0.46</td>\n",
              "      <td>6.28</td>\n",
              "      <td>0.05</td>\n",
              "      <td>18</td>\n",
              "      <td>11</td>\n",
              "      <td>224</td>\n",
              "      <td>1187</td>\n",
              "      <td>1440.00</td>\n",
              "      <td>2840.09</td>\n",
              "      <td>1.249957</td>\n",
              "      <td>0.047534</td>\n",
              "      <td>0</td>\n",
              "    </tr>\n",
              "    <tr>\n",
              "      <th>938</th>\n",
              "      <td>8877689391</td>\n",
              "      <td>05/11/2016</td>\n",
              "      <td>21420</td>\n",
              "      <td>19.559999</td>\n",
              "      <td>21.75</td>\n",
              "      <td>141.0</td>\n",
              "      <td>3832</td>\n",
              "      <td>13.22</td>\n",
              "      <td>0.41</td>\n",
              "      <td>5.89</td>\n",
              "      <td>0.05</td>\n",
              "      <td>88</td>\n",
              "      <td>12</td>\n",
              "      <td>213</td>\n",
              "      <td>1127</td>\n",
              "      <td>1440.00</td>\n",
              "      <td>3851.52</td>\n",
              "      <td>6.110899</td>\n",
              "      <td>0.343241</td>\n",
              "      <td>1</td>\n",
              "    </tr>\n",
              "    <tr>\n",
              "      <th>939</th>\n",
              "      <td>8877689391</td>\n",
              "      <td>05/12/2016</td>\n",
              "      <td>8064</td>\n",
              "      <td>6.120000</td>\n",
              "      <td>16.28</td>\n",
              "      <td>88.0</td>\n",
              "      <td>1849</td>\n",
              "      <td>1.82</td>\n",
              "      <td>0.04</td>\n",
              "      <td>4.25</td>\n",
              "      <td>0.05</td>\n",
              "      <td>23</td>\n",
              "      <td>1</td>\n",
              "      <td>137</td>\n",
              "      <td>770</td>\n",
              "      <td>931.05</td>\n",
              "      <td>1855.11</td>\n",
              "      <td>2.470329</td>\n",
              "      <td>0.098107</td>\n",
              "      <td>0</td>\n",
              "    </tr>\n",
              "  </tbody>\n",
              "</table>\n",
              "</div>"
            ],
            "text/plain": [
              "             ID ACTIVITY_DATE  ...  %_ACTIVE_DISTANCE  Cluster_label\n",
              "935  8877689391    05/08/2016  ...           0.037827              0\n",
              "936  8877689391    05/09/2016  ...           0.297736              1\n",
              "937  8877689391    05/10/2016  ...           0.047534              0\n",
              "938  8877689391    05/11/2016  ...           0.343241              1\n",
              "939  8877689391    05/12/2016  ...           0.098107              0\n",
              "\n",
              "[5 rows x 20 columns]"
            ]
          },
          "metadata": {
            "tags": []
          },
          "execution_count": 32
        }
      ]
    },
    {
      "cell_type": "code",
      "metadata": {
        "id": "2C4N-I6gATnM",
        "colab_type": "code",
        "colab": {
          "base_uri": "https://localhost:8080/",
          "height": 111
        },
        "outputId": "7eefbd52-36e9-4c96-c371-387eb12b44a9"
      },
      "source": [
        "group2 = df.groupby(['Cluster_label']).size().to_frame(name='Count').reset_index()\n",
        "group2"
      ],
      "execution_count": null,
      "outputs": [
        {
          "output_type": "execute_result",
          "data": {
            "text/html": [
              "<div>\n",
              "<style scoped>\n",
              "    .dataframe tbody tr th:only-of-type {\n",
              "        vertical-align: middle;\n",
              "    }\n",
              "\n",
              "    .dataframe tbody tr th {\n",
              "        vertical-align: top;\n",
              "    }\n",
              "\n",
              "    .dataframe thead th {\n",
              "        text-align: right;\n",
              "    }\n",
              "</style>\n",
              "<table border=\"1\" class=\"dataframe\">\n",
              "  <thead>\n",
              "    <tr style=\"text-align: right;\">\n",
              "      <th></th>\n",
              "      <th>Cluster_label</th>\n",
              "      <th>Count</th>\n",
              "    </tr>\n",
              "  </thead>\n",
              "  <tbody>\n",
              "    <tr>\n",
              "      <th>0</th>\n",
              "      <td>0</td>\n",
              "      <td>732</td>\n",
              "    </tr>\n",
              "    <tr>\n",
              "      <th>1</th>\n",
              "      <td>1</td>\n",
              "      <td>163</td>\n",
              "    </tr>\n",
              "  </tbody>\n",
              "</table>\n",
              "</div>"
            ],
            "text/plain": [
              "   Cluster_label  Count\n",
              "0              0    732\n",
              "1              1    163"
            ]
          },
          "metadata": {
            "tags": []
          },
          "execution_count": 33
        }
      ]
    },
    {
      "cell_type": "markdown",
      "metadata": {
        "id": "wd4IFGeRA3fr",
        "colab_type": "text"
      },
      "source": [
        "Como as classes estão desbalanceadas, eu vou remover boa parte dos exemplos do cluster 0"
      ]
    },
    {
      "cell_type": "code",
      "metadata": {
        "id": "ogBTlyHQAmgQ",
        "colab_type": "code",
        "colab": {
          "base_uri": "https://localhost:8080/",
          "height": 224
        },
        "outputId": "f2253846-cf70-4bc4-ab45-d36c271b3db2"
      },
      "source": [
        "from sklearn.utils import shuffle\n",
        "condition0 = df['Cluster_label'] == 0\n",
        "condition1 = df['Cluster_label'] == 1\n",
        "df_0 = df[condition0]\n",
        "df_1 = df[condition1]\n",
        "df_0 = shuffle(df_0)\n",
        "df_train = pd.concat([df_1, df_0.tail(163)])\n",
        "df_train.head()"
      ],
      "execution_count": null,
      "outputs": [
        {
          "output_type": "execute_result",
          "data": {
            "text/html": [
              "<div>\n",
              "<style scoped>\n",
              "    .dataframe tbody tr th:only-of-type {\n",
              "        vertical-align: middle;\n",
              "    }\n",
              "\n",
              "    .dataframe tbody tr th {\n",
              "        vertical-align: top;\n",
              "    }\n",
              "\n",
              "    .dataframe thead th {\n",
              "        text-align: right;\n",
              "    }\n",
              "</style>\n",
              "<table border=\"1\" class=\"dataframe\">\n",
              "  <thead>\n",
              "    <tr style=\"text-align: right;\">\n",
              "      <th></th>\n",
              "      <th>ID</th>\n",
              "      <th>ACTIVITY_DATE</th>\n",
              "      <th>TOTAL_STEPS</th>\n",
              "      <th>TOTAL_DISTANCE</th>\n",
              "      <th>MEAN_DAILY_MET</th>\n",
              "      <th>MAX_DAILY_MET</th>\n",
              "      <th>CALORIES</th>\n",
              "      <th>VERY_ACTIVE_DISTANCE</th>\n",
              "      <th>MODERATE_ACTIVE_DISTANCE</th>\n",
              "      <th>LIGHT_ACTIVE_DIST</th>\n",
              "      <th>SEDENTARY_ACTIVE_DIST</th>\n",
              "      <th>VERY_ACTIVE_MINUTES</th>\n",
              "      <th>FAIRLY_ACTIVE_MINUTES</th>\n",
              "      <th>LIGHT_ACTIVE_MINUTES</th>\n",
              "      <th>SEDENTARY_ACTIVE_MINUTES</th>\n",
              "      <th>TOTAL_ACTIVE_MINUTES</th>\n",
              "      <th>TOTAL_ACTIVE_DISTANCE</th>\n",
              "      <th>%_ACTIVE_MINUTES</th>\n",
              "      <th>%_ACTIVE_DISTANCE</th>\n",
              "      <th>Cluster_label</th>\n",
              "    </tr>\n",
              "  </thead>\n",
              "  <tbody>\n",
              "    <tr>\n",
              "      <th>5</th>\n",
              "      <td>1503960366</td>\n",
              "      <td>04/17/2016</td>\n",
              "      <td>9705</td>\n",
              "      <td>6.48</td>\n",
              "      <td>15.26</td>\n",
              "      <td>95.0</td>\n",
              "      <td>1728</td>\n",
              "      <td>3.19</td>\n",
              "      <td>0.78</td>\n",
              "      <td>2.51</td>\n",
              "      <td>0.0</td>\n",
              "      <td>38</td>\n",
              "      <td>20</td>\n",
              "      <td>164</td>\n",
              "      <td>539</td>\n",
              "      <td>761.0</td>\n",
              "      <td>1734.48</td>\n",
              "      <td>4.993430</td>\n",
              "      <td>0.183917</td>\n",
              "      <td>1</td>\n",
              "    </tr>\n",
              "    <tr>\n",
              "      <th>7</th>\n",
              "      <td>1503960366</td>\n",
              "      <td>04/19/2016</td>\n",
              "      <td>15506</td>\n",
              "      <td>9.88</td>\n",
              "      <td>17.97</td>\n",
              "      <td>109.0</td>\n",
              "      <td>2035</td>\n",
              "      <td>3.53</td>\n",
              "      <td>1.32</td>\n",
              "      <td>5.03</td>\n",
              "      <td>0.0</td>\n",
              "      <td>50</td>\n",
              "      <td>31</td>\n",
              "      <td>264</td>\n",
              "      <td>775</td>\n",
              "      <td>1120.0</td>\n",
              "      <td>2044.88</td>\n",
              "      <td>4.464286</td>\n",
              "      <td>0.172626</td>\n",
              "      <td>1</td>\n",
              "    </tr>\n",
              "    <tr>\n",
              "      <th>10</th>\n",
              "      <td>1503960366</td>\n",
              "      <td>04/22/2016</td>\n",
              "      <td>12764</td>\n",
              "      <td>8.13</td>\n",
              "      <td>16.14</td>\n",
              "      <td>93.0</td>\n",
              "      <td>1827</td>\n",
              "      <td>4.76</td>\n",
              "      <td>1.12</td>\n",
              "      <td>2.24</td>\n",
              "      <td>0.0</td>\n",
              "      <td>66</td>\n",
              "      <td>27</td>\n",
              "      <td>130</td>\n",
              "      <td>1217</td>\n",
              "      <td>1440.0</td>\n",
              "      <td>1835.12</td>\n",
              "      <td>4.583333</td>\n",
              "      <td>0.259384</td>\n",
              "      <td>1</td>\n",
              "    </tr>\n",
              "    <tr>\n",
              "      <th>13</th>\n",
              "      <td>1503960366</td>\n",
              "      <td>04/25/2016</td>\n",
              "      <td>15355</td>\n",
              "      <td>9.80</td>\n",
              "      <td>17.78</td>\n",
              "      <td>95.0</td>\n",
              "      <td>2013</td>\n",
              "      <td>5.29</td>\n",
              "      <td>0.57</td>\n",
              "      <td>3.94</td>\n",
              "      <td>0.0</td>\n",
              "      <td>73</td>\n",
              "      <td>14</td>\n",
              "      <td>216</td>\n",
              "      <td>814</td>\n",
              "      <td>1117.0</td>\n",
              "      <td>2022.80</td>\n",
              "      <td>6.535363</td>\n",
              "      <td>0.261519</td>\n",
              "      <td>1</td>\n",
              "    </tr>\n",
              "    <tr>\n",
              "      <th>15</th>\n",
              "      <td>1503960366</td>\n",
              "      <td>04/27/2016</td>\n",
              "      <td>18134</td>\n",
              "      <td>12.21</td>\n",
              "      <td>19.06</td>\n",
              "      <td>97.0</td>\n",
              "      <td>2159</td>\n",
              "      <td>6.40</td>\n",
              "      <td>0.41</td>\n",
              "      <td>5.41</td>\n",
              "      <td>0.0</td>\n",
              "      <td>78</td>\n",
              "      <td>11</td>\n",
              "      <td>243</td>\n",
              "      <td>1108</td>\n",
              "      <td>1440.0</td>\n",
              "      <td>2171.22</td>\n",
              "      <td>5.416667</td>\n",
              "      <td>0.294765</td>\n",
              "      <td>1</td>\n",
              "    </tr>\n",
              "  </tbody>\n",
              "</table>\n",
              "</div>"
            ],
            "text/plain": [
              "            ID ACTIVITY_DATE  ...  %_ACTIVE_DISTANCE  Cluster_label\n",
              "5   1503960366    04/17/2016  ...           0.183917              1\n",
              "7   1503960366    04/19/2016  ...           0.172626              1\n",
              "10  1503960366    04/22/2016  ...           0.259384              1\n",
              "13  1503960366    04/25/2016  ...           0.261519              1\n",
              "15  1503960366    04/27/2016  ...           0.294765              1\n",
              "\n",
              "[5 rows x 20 columns]"
            ]
          },
          "metadata": {
            "tags": []
          },
          "execution_count": 34
        }
      ]
    },
    {
      "cell_type": "code",
      "metadata": {
        "id": "UU5a4zY8CyDA",
        "colab_type": "code",
        "colab": {
          "base_uri": "https://localhost:8080/",
          "height": 111
        },
        "outputId": "7dd434c0-1cce-47fc-a624-695bcd55b2a9"
      },
      "source": [
        "group3 = df_train.groupby(['Cluster_label']).size().to_frame(name='Count').reset_index()\n",
        "group3"
      ],
      "execution_count": null,
      "outputs": [
        {
          "output_type": "execute_result",
          "data": {
            "text/html": [
              "<div>\n",
              "<style scoped>\n",
              "    .dataframe tbody tr th:only-of-type {\n",
              "        vertical-align: middle;\n",
              "    }\n",
              "\n",
              "    .dataframe tbody tr th {\n",
              "        vertical-align: top;\n",
              "    }\n",
              "\n",
              "    .dataframe thead th {\n",
              "        text-align: right;\n",
              "    }\n",
              "</style>\n",
              "<table border=\"1\" class=\"dataframe\">\n",
              "  <thead>\n",
              "    <tr style=\"text-align: right;\">\n",
              "      <th></th>\n",
              "      <th>Cluster_label</th>\n",
              "      <th>Count</th>\n",
              "    </tr>\n",
              "  </thead>\n",
              "  <tbody>\n",
              "    <tr>\n",
              "      <th>0</th>\n",
              "      <td>0</td>\n",
              "      <td>163</td>\n",
              "    </tr>\n",
              "    <tr>\n",
              "      <th>1</th>\n",
              "      <td>1</td>\n",
              "      <td>163</td>\n",
              "    </tr>\n",
              "  </tbody>\n",
              "</table>\n",
              "</div>"
            ],
            "text/plain": [
              "   Cluster_label  Count\n",
              "0              0    163\n",
              "1              1    163"
            ]
          },
          "metadata": {
            "tags": []
          },
          "execution_count": 35
        }
      ]
    },
    {
      "cell_type": "code",
      "metadata": {
        "id": "ar5ZvCOADHqz",
        "colab_type": "code",
        "colab": {
          "base_uri": "https://localhost:8080/",
          "height": 51
        },
        "outputId": "9512ec4e-a7e1-4b4b-bcde-2637709baeb1"
      },
      "source": [
        "from sklearn.preprocessing import MinMaxScaler\n",
        "from sklearn.metrics import classification_report\n",
        "X = df_train.iloc[:, 2:-1].values\n",
        "X = np.nan_to_num(X)\n",
        "y = df_train.iloc[:,-1:]\n",
        "scaler = MinMaxScaler(feature_range=(0, 1))\n",
        "X_norm = scaler.fit_transform(X)\n",
        "X_train, X_test, y_train, y_test = train_test_split(X_norm, y, test_size=0.1, random_state=4, shuffle = True)\n",
        "print ('Train set:', X_train.shape,  y_train.shape)\n",
        "print ('Test set:', X_test.shape,  y_test.shape)"
      ],
      "execution_count": null,
      "outputs": [
        {
          "output_type": "stream",
          "text": [
            "Train set: (293, 17) (293, 1)\n",
            "Test set: (33, 17) (33, 1)\n"
          ],
          "name": "stdout"
        }
      ]
    },
    {
      "cell_type": "code",
      "metadata": {
        "id": "vb9SJX2qDfUP",
        "colab_type": "code",
        "colab": {
          "base_uri": "https://localhost:8080/",
          "height": 700
        },
        "outputId": "75cabf0e-33d4-473a-ac91-f94ca95b7414"
      },
      "source": [
        "kernel_list = ['rbf', 'poly', 'linear']\n",
        "for kernel in kernel_list:\n",
        "    # CREATE MODEL\n",
        "    clf = svm.SVC(kernel=kernel, gamma = 'scale')  \n",
        "    clf.fit(X_train, y_train)\n",
        "    # Predict\n",
        "    yhat = clf.predict(X_test)\n",
        "    print('KERNEL:', kernel)\n",
        "    print('')\n",
        "    print (classification_report(y_test, yhat))"
      ],
      "execution_count": null,
      "outputs": [
        {
          "output_type": "stream",
          "text": [
            "KERNEL: rbf\n",
            "\n",
            "              precision    recall  f1-score   support\n",
            "\n",
            "           0       0.93      0.93      0.93        14\n",
            "           1       0.95      0.95      0.95        19\n",
            "\n",
            "    accuracy                           0.94        33\n",
            "   macro avg       0.94      0.94      0.94        33\n",
            "weighted avg       0.94      0.94      0.94        33\n",
            "\n",
            "KERNEL: poly\n",
            "\n",
            "              precision    recall  f1-score   support\n",
            "\n",
            "           0       0.93      0.93      0.93        14\n",
            "           1       0.95      0.95      0.95        19\n",
            "\n",
            "    accuracy                           0.94        33\n",
            "   macro avg       0.94      0.94      0.94        33\n",
            "weighted avg       0.94      0.94      0.94        33\n",
            "\n",
            "KERNEL: linear\n",
            "\n",
            "              precision    recall  f1-score   support\n",
            "\n",
            "           0       0.93      0.93      0.93        14\n",
            "           1       0.95      0.95      0.95        19\n",
            "\n",
            "    accuracy                           0.94        33\n",
            "   macro avg       0.94      0.94      0.94        33\n",
            "weighted avg       0.94      0.94      0.94        33\n",
            "\n"
          ],
          "name": "stdout"
        },
        {
          "output_type": "stream",
          "text": [
            "/usr/local/lib/python3.6/dist-packages/sklearn/utils/validation.py:760: DataConversionWarning: A column-vector y was passed when a 1d array was expected. Please change the shape of y to (n_samples, ), for example using ravel().\n",
            "  y = column_or_1d(y, warn=True)\n",
            "/usr/local/lib/python3.6/dist-packages/sklearn/utils/validation.py:760: DataConversionWarning: A column-vector y was passed when a 1d array was expected. Please change the shape of y to (n_samples, ), for example using ravel().\n",
            "  y = column_or_1d(y, warn=True)\n",
            "/usr/local/lib/python3.6/dist-packages/sklearn/utils/validation.py:760: DataConversionWarning: A column-vector y was passed when a 1d array was expected. Please change the shape of y to (n_samples, ), for example using ravel().\n",
            "  y = column_or_1d(y, warn=True)\n"
          ],
          "name": "stderr"
        }
      ]
    },
    {
      "cell_type": "markdown",
      "metadata": {
        "id": "zDCu30wXydnY",
        "colab_type": "text"
      },
      "source": [
        "Analisando os resultados vemos que a melhor performance é obtida utilizando-se o kernel linear. O próximo passo é utilizar o nosso modelo SVM para classificar os indivíduos entre sedentários e não sedentários em um novo data set."
      ]
    },
    {
      "cell_type": "code",
      "metadata": {
        "id": "Z9taCcTVykT5",
        "colab_type": "code",
        "colab": {
          "base_uri": "https://localhost:8080/",
          "height": 34
        },
        "outputId": "c5e2ab06-5573-49b6-be5f-542cfd1b8ea0"
      },
      "source": [
        "df_test = pd.read_csv('https://raw.githubusercontent.com/leticia-alves-ferreira/Projeto-Atividade-Fisica-IA-386-X/master/Data/DAILY_INFO_TEST.csv?token=ALTMFMH7XBCTIWOJEW3KEIK665D4O')\n",
        "#df_test = pd.read_csv('DAILY_INFO_TEST.csv')\n",
        "df_test.shape"
      ],
      "execution_count": 7,
      "outputs": [
        {
          "output_type": "execute_result",
          "data": {
            "text/plain": [
              "(428, 15)"
            ]
          },
          "metadata": {
            "tags": []
          },
          "execution_count": 7
        }
      ]
    },
    {
      "cell_type": "code",
      "metadata": {
        "id": "2Fp18Sed6LQ6",
        "colab_type": "code",
        "colab": {
          "base_uri": "https://localhost:8080/",
          "height": 34
        },
        "outputId": "68863921-a600-44ce-a85a-d0454732d5b8"
      },
      "source": [
        "df_test['TOTAL_ACTIVE_MINUTES'] = df_test.iloc[:,10:15].sum(axis=1)\n",
        "df_test['TOTAL_ACTIVE_DISTANCE'] = df_test.iloc[:,6:10].sum(axis=1)\n",
        "df_test['%_ACTIVE_MINUTES'] = (df_test['VERY_ACTIVE_MINUTES'] / df_test['TOTAL_ACTIVE_MINUTES'])*100\n",
        "df_test['%_ACTIVE_DISTANCE'] = (df_test['VERY_ACTIVE_DISTANCE'] / df_test['TOTAL_ACTIVE_DISTANCE'])*100\n",
        "df_test.shape"
      ],
      "execution_count": null,
      "outputs": [
        {
          "output_type": "execute_result",
          "data": {
            "text/plain": [
              "(428, 19)"
            ]
          },
          "metadata": {
            "tags": []
          },
          "execution_count": 39
        }
      ]
    },
    {
      "cell_type": "code",
      "metadata": {
        "id": "DDTwwV_ozBJ9",
        "colab_type": "code",
        "colab": {}
      },
      "source": [
        "df_unique_1 = df['ID'].unique()\n",
        "df_unique_2 = df_test['ID'].unique()"
      ],
      "execution_count": null,
      "outputs": []
    },
    {
      "cell_type": "markdown",
      "metadata": {
        "id": "FE3zRgID5De_",
        "colab_type": "text"
      },
      "source": [
        "Selecionando os indivíduos que não se encontram no data set utilizado para treinamento"
      ]
    },
    {
      "cell_type": "code",
      "metadata": {
        "id": "RCZzWP-A4FiO",
        "colab_type": "code",
        "colab": {
          "base_uri": "https://localhost:8080/",
          "height": 34
        },
        "outputId": "fd2d38d9-f6a5-4409-fae0-3c7c9b0f9638"
      },
      "source": [
        "new_id = list(set(df_unique_2) - set(df_unique_1))\n",
        "print('Os indivíduos',new_id[0],'e',new_id[1], 'não foram utilizados durante o treinamento')"
      ],
      "execution_count": null,
      "outputs": [
        {
          "output_type": "stream",
          "text": [
            "Os indivíduos 2891001357 e 6391747486 não foram utilizados para o treinamento\n"
          ],
          "name": "stdout"
        }
      ]
    },
    {
      "cell_type": "code",
      "metadata": {
        "id": "tFKlLBPp3D6t",
        "colab_type": "code",
        "colab": {
          "base_uri": "https://localhost:8080/",
          "height": 162
        },
        "outputId": "847d201f-074b-472e-827a-e32068835b9c"
      },
      "source": [
        "test_condition = df_test['ID'] == 6391747486 \n",
        "test_condition2 = df_test['ID'] == 2891001357\n",
        "new_df_test = df_test[test_condition]\n",
        "# Missing data\n",
        "new_df_test = new_df_test.replace(to_replace=0, method='ffill')\n",
        "new_df_test = new_df_test.replace(to_replace=0, method='bfill')\n",
        "\n",
        "new_df_test2 = df_test[test_condition2]\n",
        "new_df_test = pd.concat([new_df_test, new_df_test2],axis = 0)\n",
        "\n",
        "df_test_mean = new_df_test.groupby(['ID']).mean()\n",
        "df_test_mean\n"
      ],
      "execution_count": null,
      "outputs": [
        {
          "output_type": "execute_result",
          "data": {
            "text/html": [
              "<div>\n",
              "<style scoped>\n",
              "    .dataframe tbody tr th:only-of-type {\n",
              "        vertical-align: middle;\n",
              "    }\n",
              "\n",
              "    .dataframe tbody tr th {\n",
              "        vertical-align: top;\n",
              "    }\n",
              "\n",
              "    .dataframe thead th {\n",
              "        text-align: right;\n",
              "    }\n",
              "</style>\n",
              "<table border=\"1\" class=\"dataframe\">\n",
              "  <thead>\n",
              "    <tr style=\"text-align: right;\">\n",
              "      <th></th>\n",
              "      <th>TOTAL_STEPS</th>\n",
              "      <th>TOTAL_DISTANCE</th>\n",
              "      <th>MEAN_DAILY_MET</th>\n",
              "      <th>MAX_DAILY_MET</th>\n",
              "      <th>CALORIES</th>\n",
              "      <th>VERY_ACTIVE_DISTANCE</th>\n",
              "      <th>MODERATE_ACTIVE_DISTANCE</th>\n",
              "      <th>LIGHT_ACTIVE_DIST</th>\n",
              "      <th>SEDENTARY_ACTIVE_DIST</th>\n",
              "      <th>VERY_ACTIVE_MINUTES</th>\n",
              "      <th>FAIRLY_ACTIVE_MINUTES</th>\n",
              "      <th>LIGHT_ACTIVE_MINUTES</th>\n",
              "      <th>SEDENTARY_ACTIVE_MINUTES</th>\n",
              "      <th>TOTAL_ACTIVE_MINUTES</th>\n",
              "      <th>TOTAL_ACTIVE_DISTANCE</th>\n",
              "      <th>%_ACTIVE_MINUTES</th>\n",
              "      <th>%_ACTIVE_DISTANCE</th>\n",
              "    </tr>\n",
              "    <tr>\n",
              "      <th>ID</th>\n",
              "      <th></th>\n",
              "      <th></th>\n",
              "      <th></th>\n",
              "      <th></th>\n",
              "      <th></th>\n",
              "      <th></th>\n",
              "      <th></th>\n",
              "      <th></th>\n",
              "      <th></th>\n",
              "      <th></th>\n",
              "      <th></th>\n",
              "      <th></th>\n",
              "      <th></th>\n",
              "      <th></th>\n",
              "      <th></th>\n",
              "      <th></th>\n",
              "      <th></th>\n",
              "    </tr>\n",
              "  </thead>\n",
              "  <tbody>\n",
              "    <tr>\n",
              "      <th>2891001357</th>\n",
              "      <td>2063.000000</td>\n",
              "      <td>1.610000</td>\n",
              "      <td>11.670000</td>\n",
              "      <td>20.000000</td>\n",
              "      <td>1144.000000</td>\n",
              "      <td>0.00</td>\n",
              "      <td>0.00</td>\n",
              "      <td>1.610000</td>\n",
              "      <td>0.0</td>\n",
              "      <td>0.0</td>\n",
              "      <td>0.0</td>\n",
              "      <td>630.000000</td>\n",
              "      <td>99.000000</td>\n",
              "      <td>729.0</td>\n",
              "      <td>1145.610000</td>\n",
              "      <td>0.000000</td>\n",
              "      <td>0.000000</td>\n",
              "    </tr>\n",
              "    <tr>\n",
              "      <th>6391747486</th>\n",
              "      <td>2092.222222</td>\n",
              "      <td>1.794444</td>\n",
              "      <td>10.643333</td>\n",
              "      <td>26.666667</td>\n",
              "      <td>1763.111111</td>\n",
              "      <td>2.03</td>\n",
              "      <td>0.05</td>\n",
              "      <td>4.202222</td>\n",
              "      <td>0.0</td>\n",
              "      <td>46.0</td>\n",
              "      <td>6.0</td>\n",
              "      <td>170.777778</td>\n",
              "      <td>1261.888889</td>\n",
              "      <td>1302.0</td>\n",
              "      <td>1764.185556</td>\n",
              "      <td>3.194444</td>\n",
              "      <td>0.091194</td>\n",
              "    </tr>\n",
              "  </tbody>\n",
              "</table>\n",
              "</div>"
            ],
            "text/plain": [
              "            TOTAL_STEPS  TOTAL_DISTANCE  ...  %_ACTIVE_MINUTES  %_ACTIVE_DISTANCE\n",
              "ID                                       ...                                     \n",
              "2891001357  2063.000000        1.610000  ...          0.000000           0.000000\n",
              "6391747486  2092.222222        1.794444  ...          3.194444           0.091194\n",
              "\n",
              "[2 rows x 17 columns]"
            ]
          },
          "metadata": {
            "tags": []
          },
          "execution_count": 42
        }
      ]
    },
    {
      "cell_type": "markdown",
      "metadata": {
        "id": "Fgli4TtY_h3-",
        "colab_type": "text"
      },
      "source": [
        "Preparando os dados para inferência"
      ]
    },
    {
      "cell_type": "code",
      "metadata": {
        "id": "8ICmb70m68n9",
        "colab_type": "code",
        "colab": {
          "base_uri": "https://localhost:8080/",
          "height": 34
        },
        "outputId": "e80adec2-2d5c-4b95-d1e4-ae8d8e69f248"
      },
      "source": [
        "df_norm = pd.concat([df_train.iloc[:, 2:-1], df_test_mean], axis = 0)\n",
        "df_norm.shape"
      ],
      "execution_count": null,
      "outputs": [
        {
          "output_type": "execute_result",
          "data": {
            "text/plain": [
              "(328, 17)"
            ]
          },
          "metadata": {
            "tags": []
          },
          "execution_count": 43
        }
      ]
    },
    {
      "cell_type": "code",
      "metadata": {
        "id": "stVz0dEUAFbm",
        "colab_type": "code",
        "colab": {
          "base_uri": "https://localhost:8080/",
          "height": 34
        },
        "outputId": "ee59ad1e-ed90-477b-dc47-1b26d0092938"
      },
      "source": [
        "# Normalizando os dados\n",
        "scaler = MinMaxScaler(feature_range=(0, 1))\n",
        "X_norm_test = scaler.fit_transform(df_norm.values)\n",
        "X_norm_test.shape"
      ],
      "execution_count": null,
      "outputs": [
        {
          "output_type": "execute_result",
          "data": {
            "text/plain": [
              "(328, 17)"
            ]
          },
          "metadata": {
            "tags": []
          },
          "execution_count": 44
        }
      ]
    },
    {
      "cell_type": "markdown",
      "metadata": {
        "id": "a5bHqp1IDcLR",
        "colab_type": "text"
      },
      "source": [
        "Classificando os novos indivíduos"
      ]
    },
    {
      "cell_type": "code",
      "metadata": {
        "id": "T2Iy_ci8CFZt",
        "colab_type": "code",
        "colab": {
          "base_uri": "https://localhost:8080/",
          "height": 34
        },
        "outputId": "eebd7d52-106d-44bf-c148-af9b9dab747e"
      },
      "source": [
        "yhat = clf.predict(X_norm_test[-1].reshape(1,17))\n",
        "print('O indivíduo de ID = 6391747486 pertence ao grupo', str(yhat))"
      ],
      "execution_count": null,
      "outputs": [
        {
          "output_type": "stream",
          "text": [
            "O indivíduo de ID = 6391747486 pertence ao grupo [0]\n"
          ],
          "name": "stdout"
        }
      ]
    },
    {
      "cell_type": "code",
      "metadata": {
        "id": "Ox5CCc4XCivv",
        "colab_type": "code",
        "colab": {
          "base_uri": "https://localhost:8080/",
          "height": 34
        },
        "outputId": "53e1e29a-0019-4307-f72f-6ade035ef500"
      },
      "source": [
        "yhat = clf.predict(X_norm_test[-2].reshape(1,17))\n",
        "print('O indivíduo de ID = 2891001357 pertence ao grupo', str(yhat))"
      ],
      "execution_count": null,
      "outputs": [
        {
          "output_type": "stream",
          "text": [
            "O indivíduo de ID = 2891001357 pertence ao grupo [0]\n"
          ],
          "name": "stdout"
        }
      ]
    },
    {
      "cell_type": "markdown",
      "metadata": {
        "id": "16ENBRnvOzl_",
        "colab_type": "text"
      },
      "source": [
        "Agora vamos plotar novamente nosso gráfico com a clusterização para ver onde o indivíduo de ID = 6391747486 está localizado."
      ]
    },
    {
      "cell_type": "code",
      "metadata": {
        "id": "ynJji4GvH8Hd",
        "colab_type": "code",
        "colab": {}
      },
      "source": [
        "df_mean[\"Cluster_label\"] = labels2\n",
        "df_mean_new = pd.concat([df_mean, df_test_mean], axis = 0)\n",
        "df_mean_new.drop(df_mean_new.index[[-2]], inplace = True)\n",
        "df_mean_new = df_mean_new.fillna(2)\n",
        "#df_mean_new.tail()"
      ],
      "execution_count": null,
      "outputs": []
    },
    {
      "cell_type": "code",
      "metadata": {
        "id": "fJg9o2n2IAO4",
        "colab_type": "code",
        "colab": {
          "base_uri": "https://localhost:8080/",
          "height": 303
        },
        "outputId": "8b64f18f-1c45-4fd9-a99b-df0bc6e869d5"
      },
      "source": [
        "plt.scatter(df_mean_new['%_ACTIVE_MINUTES'], df_mean_new['%_ACTIVE_DISTANCE'], c=df_mean_new['Cluster_label'].astype(np.float), alpha=0.5)\n",
        "plt.xlabel('%_ACTIVE_MINUTES', fontsize=16)\n",
        "plt.ylabel('%_ACTIVE_DISTANCE', fontsize=16)"
      ],
      "execution_count": null,
      "outputs": [
        {
          "output_type": "execute_result",
          "data": {
            "text/plain": [
              "Text(0, 0.5, '%_ACTIVE_DISTANCE')"
            ]
          },
          "metadata": {
            "tags": []
          },
          "execution_count": 48
        },
        {
          "output_type": "display_data",
          "data": {
            "image/png": "[encoded data removed]",
            "text/plain": [
              "<Figure size 432x288 with 1 Axes>"
            ]
          },
          "metadata": {
            "tags": [],
            "needs_background": "light"
          }
        }
      ]
    },
    {
      "cell_type": "markdown",
      "metadata": {
        "id": "b7jeud_mQR9J",
        "colab_type": "text"
      },
      "source": [
        "Analisando o gráfico podemos ver que a classificação foi coerente em relação aos outros indivíduos pertencentes ao conjunto de dados de treinamento."
      ]
    },
    {
      "cell_type": "code",
      "metadata": {
        "id": "CHjmh39YL1mG",
        "colab_type": "code",
        "colab": {}
      },
      "source": [
        "df_mean[\"Cluster_label\"] = labels3\n",
        "df_mean_new2 = pd.concat([df_mean, df_test_mean], axis = 0)\n",
        "df_mean_new2.drop(df_mean_new2.index[[-2]], inplace = True)\n",
        "df_mean_new2 = df_mean_new2.fillna(2)\n",
        "\n"
      ],
      "execution_count": null,
      "outputs": []
    },
    {
      "cell_type": "code",
      "metadata": {
        "id": "OsPBzDq0XwME",
        "colab_type": "code",
        "colab": {
          "base_uri": "https://localhost:8080/",
          "height": 542
        },
        "outputId": "f1c4555b-cbe1-4991-84ea-f6ff0209a8d6"
      },
      "source": [
        "import plotly.express as px\n",
        "\n",
        "fig = px.scatter_3d(df_mean_new2, x='CALORIES', y='%_ACTIVE_DISTANCE', z='%_ACTIVE_MINUTES',\n",
        "              color='Cluster_label')\n",
        "fig.show()"
      ],
      "execution_count": null,
      "outputs": [
        {
          "output_type": "display_data",
          "data": {
            "text/html": [
              "<html>\n",
              "<head><meta charset=\"utf-8\" /></head>\n",
              "<body>\n",
              "    <div>\n",
              "            <script src=\"https://cdnjs.cloudflare.com/ajax/libs/mathjax/2.7.5/MathJax.js?config=TeX-AMS-MML_SVG\"></script><script type=\"text/javascript\">if (window.MathJax) {MathJax.Hub.Config({SVG: {font: \"STIX-Web\"}});}</script>\n",
              "                <script type=\"text/javascript\">window.PlotlyConfig = {MathJaxConfig: 'local'};</script>\n",
              "        <script src=\"https://cdn.plot.ly/plotly-latest.min.js\"></script>    \n",
              "            <div id=\"4b3512ba-fa13-43b0-ab2f-d06d0156cb88\" class=\"plotly-graph-div\" style=\"height:525px; width:100%;\"></div>\n",
              "            <script type=\"text/javascript\">\n",
              "                \n",
              "                    window.PLOTLYENV=window.PLOTLYENV || {};\n",
              "                    \n",
              "                if (document.getElementById(\"4b3512ba-fa13-43b0-ab2f-d06d0156cb88\")) {\n",
              "                    Plotly.newPlot(\n",
              "                        '4b3512ba-fa13-43b0-ab2f-d06d0156cb88',\n",
              "                        [{\"hoverlabel\": {\"namelength\": 0}, \"hovertemplate\": \"CALORIES=%{x}<br>%_ACTIVE_DISTANCE=%{y}<br>%_ACTIVE_MINUTES=%{z}<br>Cluster_label=%{marker.color}\", \"legendgroup\": \"\", \"marker\": {\"color\": [0.0, 0.0, 1.0, 0.0, 0.0, 1.0, 0.0, 0.0, 0.0, 0.0, 0.0, 0.0, 1.0, 0.0, 0.0, 1.0, 0.0, 0.0, 1.0, 0.0, 1.0, 0.0, 1.0, 0.0, 0.0, 1.0, 1.0, 1.0, 0.0, 1.0, 1.0, 0.0, 1.0, 2.0], \"coloraxis\": \"coloraxis\", \"symbol\": \"circle\"}, \"mode\": \"markers\", \"name\": \"\", \"scene\": \"scene\", \"showlegend\": false, \"type\": \"scatter3d\", \"x\": [1873.9354838709678, 1499.4, 2811.3, 1693.6666666666667, 2172.8064516129034, 2509.967741935484, 1540.6451612903227, 1724.1612903225807, 2139.9411764705883, 1916.967741935484, 1933.1, 1564.0689655172414, 2764.6875, 1973.75, 2118.862068965517, 3093.8709677419356, 2218.6666666666665, 2033.258064516129, 3023.0666666666666, 1913.5, 3418.0689655172414, 2298.6666666666665, 2674.6206896551726, 2221.318181818182, 2017.1666666666667, 2640.96, 2681.9285714285716, 2945.8064516129034, 1885.578947368421, 3436.5806451612902, 2822.483870967742, 2030.357142857143, 3420.2580645161293, 1763.111111111111], \"y\": [0.15510370455611086, 0.12474855411731298, 0.03415402210031297, 0.017085365859426986, 0.017230624058184346, 0.1039677811228325, 0.012480263741382358, 0.05138437234245729, 0.06742169395982167, 0.0701088216968862, 0.061481112056833355, 0.117856992404118, 0.029232119349850202, 0.007366853446355353, 0.015932070127746292, 0.051596884840722224, 0.07892910164582764, 0.03771390072857632, 0.016713680965171826, 0.1377027733296073, 0.091903029749755, 0.051921912376449976, 0.03201611748412783, 0.07736202183342968, 0.09791771753198525, 0.13125765965475214, 0.12043556830593992, 0.28503683379424466, 0.14184275601155083, 0.07893398830620262, 0.04037995674543812, 0.014095377752483923, 0.20526705839177165, 0.09119373824369309], \"z\": [3.564986657866465, 1.511018652159812, 0.9324062786328674, 0.35144383208239344, 0.37016141506842126, 2.6919280934540004, 0.31908246697870885, 0.787426315503665, 1.7757576706011142, 1.6804940076997668, 1.2518802949013565, 2.243526419293626, 2.052201801356929, 0.1773351431858207, 0.4437911925762169, 2.305897296757993, 2.0657114723117647, 0.9895795532657334, 0.6202736434546797, 4.308868353296418, 9.326344247821385, 1.3250149907209359, 0.9873320613136548, 1.811700859657241, 2.897847950861667, 2.9450934619020845, 4.910528427333411, 6.27331762924567, 1.8094492518678154, 6.8086095804744735, 0.9849369502496875, 0.5326590646744519, 4.6939740479361465, 3.1944444444444438]}],\n",
              "                        {\"coloraxis\": {\"colorbar\": {\"title\": {\"text\": \"Cluster_label\"}}, \"colorscale\": [[0.0, \"#0d0887\"], [0.1111111111111111, \"#46039f\"], [0.2222222222222222, \"#7201a8\"], [0.3333333333333333, \"#9c179e\"], [0.4444444444444444, \"#bd3786\"], [0.5555555555555556, \"#d8576b\"], [0.6666666666666666, \"#ed7953\"], [0.7777777777777778, \"#fb9f3a\"], [0.8888888888888888, \"#fdca26\"], [1.0, \"#f0f921\"]]}, \"legend\": {\"tracegroupgap\": 0}, \"margin\": {\"t\": 60}, \"scene\": {\"domain\": {\"x\": [0.0, 1.0], \"y\": [0.0, 1.0]}, \"xaxis\": {\"title\": {\"text\": \"CALORIES\"}}, \"yaxis\": {\"title\": {\"text\": \"%_ACTIVE_DISTANCE\"}}, \"zaxis\": {\"title\": {\"text\": \"%_ACTIVE_MINUTES\"}}}, \"template\": {\"data\": {\"bar\": [{\"error_x\": {\"color\": \"#2a3f5f\"}, \"error_y\": {\"color\": \"#2a3f5f\"}, \"marker\": {\"line\": {\"color\": \"#E5ECF6\", \"width\": 0.5}}, \"type\": \"bar\"}], \"barpolar\": [{\"marker\": {\"line\": {\"color\": \"#E5ECF6\", \"width\": 0.5}}, \"type\": \"barpolar\"}], \"carpet\": [{\"aaxis\": {\"endlinecolor\": \"#2a3f5f\", \"gridcolor\": \"white\", \"linecolor\": \"white\", \"minorgridcolor\": \"white\", \"startlinecolor\": \"#2a3f5f\"}, \"baxis\": {\"endlinecolor\": \"#2a3f5f\", \"gridcolor\": \"white\", \"linecolor\": \"white\", \"minorgridcolor\": \"white\", \"startlinecolor\": \"#2a3f5f\"}, \"type\": \"carpet\"}], \"choropleth\": [{\"colorbar\": {\"outlinewidth\": 0, \"ticks\": \"\"}, \"type\": \"choropleth\"}], \"contour\": [{\"colorbar\": {\"outlinewidth\": 0, \"ticks\": \"\"}, \"colorscale\": [[0.0, \"#0d0887\"], [0.1111111111111111, \"#46039f\"], [0.2222222222222222, \"#7201a8\"], [0.3333333333333333, \"#9c179e\"], [0.4444444444444444, \"#bd3786\"], [0.5555555555555556, \"#d8576b\"], [0.6666666666666666, \"#ed7953\"], [0.7777777777777778, \"#fb9f3a\"], [0.8888888888888888, \"#fdca26\"], [1.0, \"#f0f921\"]], \"type\": \"contour\"}], \"contourcarpet\": [{\"colorbar\": {\"outlinewidth\": 0, \"ticks\": \"\"}, \"type\": \"contourcarpet\"}], \"heatmap\": [{\"colorbar\": {\"outlinewidth\": 0, \"ticks\": \"\"}, \"colorscale\": [[0.0, \"#0d0887\"], [0.1111111111111111, \"#46039f\"], [0.2222222222222222, \"#7201a8\"], [0.3333333333333333, \"#9c179e\"], [0.4444444444444444, \"#bd3786\"], [0.5555555555555556, \"#d8576b\"], [0.6666666666666666, \"#ed7953\"], [0.7777777777777778, \"#fb9f3a\"], [0.8888888888888888, \"#fdca26\"], [1.0, \"#f0f921\"]], \"type\": \"heatmap\"}], \"heatmapgl\": [{\"colorbar\": {\"outlinewidth\": 0, \"ticks\": \"\"}, \"colorscale\": [[0.0, \"#0d0887\"], [0.1111111111111111, \"#46039f\"], [0.2222222222222222, \"#7201a8\"], [0.3333333333333333, \"#9c179e\"], [0.4444444444444444, \"#bd3786\"], [0.5555555555555556, \"#d8576b\"], [0.6666666666666666, \"#ed7953\"], [0.7777777777777778, \"#fb9f3a\"], [0.8888888888888888, \"#fdca26\"], [1.0, \"#f0f921\"]], \"type\": \"heatmapgl\"}], \"histogram\": [{\"marker\": {\"colorbar\": {\"outlinewidth\": 0, \"ticks\": \"\"}}, \"type\": \"histogram\"}], \"histogram2d\": [{\"colorbar\": {\"outlinewidth\": 0, \"ticks\": \"\"}, \"colorscale\": [[0.0, \"#0d0887\"], [0.1111111111111111, \"#46039f\"], [0.2222222222222222, \"#7201a8\"], [0.3333333333333333, \"#9c179e\"], [0.4444444444444444, \"#bd3786\"], [0.5555555555555556, \"#d8576b\"], [0.6666666666666666, \"#ed7953\"], [0.7777777777777778, \"#fb9f3a\"], [0.8888888888888888, \"#fdca26\"], [1.0, \"#f0f921\"]], \"type\": \"histogram2d\"}], \"histogram2dcontour\": [{\"colorbar\": {\"outlinewidth\": 0, \"ticks\": \"\"}, \"colorscale\": [[0.0, \"#0d0887\"], [0.1111111111111111, \"#46039f\"], [0.2222222222222222, \"#7201a8\"], [0.3333333333333333, \"#9c179e\"], [0.4444444444444444, \"#bd3786\"], [0.5555555555555556, \"#d8576b\"], [0.6666666666666666, \"#ed7953\"], [0.7777777777777778, \"#fb9f3a\"], [0.8888888888888888, \"#fdca26\"], [1.0, \"#f0f921\"]], \"type\": \"histogram2dcontour\"}], \"mesh3d\": [{\"colorbar\": {\"outlinewidth\": 0, \"ticks\": \"\"}, \"type\": \"mesh3d\"}], \"parcoords\": [{\"line\": {\"colorbar\": {\"outlinewidth\": 0, \"ticks\": \"\"}}, \"type\": \"parcoords\"}], \"pie\": [{\"automargin\": true, \"type\": \"pie\"}], \"scatter\": [{\"marker\": {\"colorbar\": {\"outlinewidth\": 0, \"ticks\": \"\"}}, \"type\": \"scatter\"}], \"scatter3d\": [{\"line\": {\"colorbar\": {\"outlinewidth\": 0, \"ticks\": \"\"}}, \"marker\": {\"colorbar\": {\"outlinewidth\": 0, \"ticks\": \"\"}}, \"type\": \"scatter3d\"}], \"scattercarpet\": [{\"marker\": {\"colorbar\": {\"outlinewidth\": 0, \"ticks\": \"\"}}, \"type\": \"scattercarpet\"}], \"scattergeo\": [{\"marker\": {\"colorbar\": {\"outlinewidth\": 0, \"ticks\": \"\"}}, \"type\": \"scattergeo\"}], \"scattergl\": [{\"marker\": {\"colorbar\": {\"outlinewidth\": 0, \"ticks\": \"\"}}, \"type\": \"scattergl\"}], \"scattermapbox\": [{\"marker\": {\"colorbar\": {\"outlinewidth\": 0, \"ticks\": \"\"}}, \"type\": \"scattermapbox\"}], \"scatterpolar\": [{\"marker\": {\"colorbar\": {\"outlinewidth\": 0, \"ticks\": \"\"}}, \"type\": \"scatterpolar\"}], \"scatterpolargl\": [{\"marker\": {\"colorbar\": {\"outlinewidth\": 0, \"ticks\": \"\"}}, \"type\": \"scatterpolargl\"}], \"scatterternary\": [{\"marker\": {\"colorbar\": {\"outlinewidth\": 0, \"ticks\": \"\"}}, \"type\": \"scatterternary\"}], \"surface\": [{\"colorbar\": {\"outlinewidth\": 0, \"ticks\": \"\"}, \"colorscale\": [[0.0, \"#0d0887\"], [0.1111111111111111, \"#46039f\"], [0.2222222222222222, \"#7201a8\"], [0.3333333333333333, \"#9c179e\"], [0.4444444444444444, \"#bd3786\"], [0.5555555555555556, \"#d8576b\"], [0.6666666666666666, \"#ed7953\"], [0.7777777777777778, \"#fb9f3a\"], [0.8888888888888888, \"#fdca26\"], [1.0, \"#f0f921\"]], \"type\": \"surface\"}], \"table\": [{\"cells\": {\"fill\": {\"color\": \"#EBF0F8\"}, \"line\": {\"color\": \"white\"}}, \"header\": {\"fill\": {\"color\": \"#C8D4E3\"}, \"line\": {\"color\": \"white\"}}, \"type\": \"table\"}]}, \"layout\": {\"annotationdefaults\": {\"arrowcolor\": \"#2a3f5f\", \"arrowhead\": 0, \"arrowwidth\": 1}, \"coloraxis\": {\"colorbar\": {\"outlinewidth\": 0, \"ticks\": \"\"}}, \"colorscale\": {\"diverging\": [[0, \"#8e0152\"], [0.1, \"#c51b7d\"], [0.2, \"#de77ae\"], [0.3, \"#f1b6da\"], [0.4, \"#fde0ef\"], [0.5, \"#f7f7f7\"], [0.6, \"#e6f5d0\"], [0.7, \"#b8e186\"], [0.8, \"#7fbc41\"], [0.9, \"#4d9221\"], [1, \"#276419\"]], \"sequential\": [[0.0, \"#0d0887\"], [0.1111111111111111, \"#46039f\"], [0.2222222222222222, \"#7201a8\"], [0.3333333333333333, \"#9c179e\"], [0.4444444444444444, \"#bd3786\"], [0.5555555555555556, \"#d8576b\"], [0.6666666666666666, \"#ed7953\"], [0.7777777777777778, \"#fb9f3a\"], [0.8888888888888888, \"#fdca26\"], [1.0, \"#f0f921\"]], \"sequentialminus\": [[0.0, \"#0d0887\"], [0.1111111111111111, \"#46039f\"], [0.2222222222222222, \"#7201a8\"], [0.3333333333333333, \"#9c179e\"], [0.4444444444444444, \"#bd3786\"], [0.5555555555555556, \"#d8576b\"], [0.6666666666666666, \"#ed7953\"], [0.7777777777777778, \"#fb9f3a\"], [0.8888888888888888, \"#fdca26\"], [1.0, \"#f0f921\"]]}, \"colorway\": [\"#636efa\", \"#EF553B\", \"#00cc96\", \"#ab63fa\", \"#FFA15A\", \"#19d3f3\", \"#FF6692\", \"#B6E880\", \"#FF97FF\", \"#FECB52\"], \"font\": {\"color\": \"#2a3f5f\"}, \"geo\": {\"bgcolor\": \"white\", \"lakecolor\": \"white\", \"landcolor\": \"#E5ECF6\", \"showlakes\": true, \"showland\": true, \"subunitcolor\": \"white\"}, \"hoverlabel\": {\"align\": \"left\"}, \"hovermode\": \"closest\", \"mapbox\": {\"style\": \"light\"}, \"paper_bgcolor\": \"white\", \"plot_bgcolor\": \"#E5ECF6\", \"polar\": {\"angularaxis\": {\"gridcolor\": \"white\", \"linecolor\": \"white\", \"ticks\": \"\"}, \"bgcolor\": \"#E5ECF6\", \"radialaxis\": {\"gridcolor\": \"white\", \"linecolor\": \"white\", \"ticks\": \"\"}}, \"scene\": {\"xaxis\": {\"backgroundcolor\": \"#E5ECF6\", \"gridcolor\": \"white\", \"gridwidth\": 2, \"linecolor\": \"white\", \"showbackground\": true, \"ticks\": \"\", \"zerolinecolor\": \"white\"}, \"yaxis\": {\"backgroundcolor\": \"#E5ECF6\", \"gridcolor\": \"white\", \"gridwidth\": 2, \"linecolor\": \"white\", \"showbackground\": true, \"ticks\": \"\", \"zerolinecolor\": \"white\"}, \"zaxis\": {\"backgroundcolor\": \"#E5ECF6\", \"gridcolor\": \"white\", \"gridwidth\": 2, \"linecolor\": \"white\", \"showbackground\": true, \"ticks\": \"\", \"zerolinecolor\": \"white\"}}, \"shapedefaults\": {\"line\": {\"color\": \"#2a3f5f\"}}, \"ternary\": {\"aaxis\": {\"gridcolor\": \"white\", \"linecolor\": \"white\", \"ticks\": \"\"}, \"baxis\": {\"gridcolor\": \"white\", \"linecolor\": \"white\", \"ticks\": \"\"}, \"bgcolor\": \"#E5ECF6\", \"caxis\": {\"gridcolor\": \"white\", \"linecolor\": \"white\", \"ticks\": \"\"}}, \"title\": {\"x\": 0.05}, \"xaxis\": {\"automargin\": true, \"gridcolor\": \"white\", \"linecolor\": \"white\", \"ticks\": \"\", \"title\": {\"standoff\": 15}, \"zerolinecolor\": \"white\", \"zerolinewidth\": 2}, \"yaxis\": {\"automargin\": true, \"gridcolor\": \"white\", \"linecolor\": \"white\", \"ticks\": \"\", \"title\": {\"standoff\": 15}, \"zerolinecolor\": \"white\", \"zerolinewidth\": 2}}}},\n",
              "                        {\"responsive\": true}\n",
              "                    ).then(function(){\n",
              "                            \n",
              "var gd = document.getElementById('4b3512ba-fa13-43b0-ab2f-d06d0156cb88');\n",
              "var x = new MutationObserver(function (mutations, observer) {{\n",
              "        var display = window.getComputedStyle(gd).display;\n",
              "        if (!display || display === 'none') {{\n",
              "            console.log([gd, 'removed!']);\n",
              "            Plotly.purge(gd);\n",
              "            observer.disconnect();\n",
              "        }}\n",
              "}});\n",
              "\n",
              "// Listen for the removal of the full notebook cells\n",
              "var notebookContainer = gd.closest('#notebook-container');\n",
              "if (notebookContainer) {{\n",
              "    x.observe(notebookContainer, {childList: true});\n",
              "}}\n",
              "\n",
              "// Listen for the clearing of the current output cell\n",
              "var outputEl = gd.closest('.output');\n",
              "if (outputEl) {{\n",
              "    x.observe(outputEl, {childList: true});\n",
              "}}\n",
              "\n",
              "                        })\n",
              "                };\n",
              "                \n",
              "            </script>\n",
              "        </div>\n",
              "</body>\n",
              "</html>"
            ]
          },
          "metadata": {
            "tags": []
          }
        }
      ]
    },
    {
      "cell_type": "code",
      "metadata": {
        "id": "nuq_Ef6-Ytry",
        "colab_type": "code",
        "colab": {}
      },
      "source": [
        ""
      ],
      "execution_count": null,
      "outputs": []
    }
  ]
}